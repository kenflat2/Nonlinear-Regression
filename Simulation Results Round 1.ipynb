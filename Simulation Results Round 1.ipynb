{
 "cells": [
  {
   "cell_type": "code",
   "execution_count": 1,
   "metadata": {},
   "outputs": [],
   "source": [
    "import numpy as np\n",
    "import numpy.linalg as la\n",
    "import numpy.random as rand\n",
    "import pandas as pd\n",
    "import matplotlib as mpl\n",
    "import matplotlib.pyplot as plt\n",
    "import itertools\n",
    "from mpl_toolkits.mplot3d import Axes3D\n",
    "import math\n",
    "from matplotlib import cm\n",
    "from scipy.integrate import odeint\n",
    "from scipy import stats\n",
    "from EDMtoolkit import *\n",
    "from modelSystems import *\n",
    "import datetime\n",
    "\n",
    "plt.rcParams['text.usetex'] = True\n",
    "\n",
    "%load_ext autoreload\n",
    "%autoreload 2\n",
    "%matplotlib notebook"
   ]
  },
  {
   "cell_type": "code",
   "execution_count": 2,
   "metadata": {},
   "outputs": [],
   "source": [
    "AR_coefs = np.array([-3,2,6])\n",
    "l = len(AR_coefs)\n",
    "\n",
    "A = np.zeros((l,l))\n",
    "A[0,:] = AR_coefs\n",
    "A[1:,:-1] = np.identity(l-1)"
   ]
  },
  {
   "cell_type": "code",
   "execution_count": 3,
   "metadata": {},
   "outputs": [],
   "source": [
    "X = np.zeros(200)\n",
    "X[1] = rand.normal(1)\n",
    "\n",
    "for i in range(200-1-l):\n",
    "    X[i+1] = (A @ X[i:i+l])[0]"
   ]
  },
  {
   "cell_type": "code",
   "execution_count": 4,
   "metadata": {},
   "outputs": [
    {
     "data": {
      "text/plain": [
       "[(2.3755443100526374+0j),\n",
       " (0.6738520906542631-2.277967104447371j),\n",
       " (-1.9932515966247326-1.2923462545217572j),\n",
       " (-1.8046722988075365+1.544787578581658j),\n",
       " (0.9694170199753521+2.168741895755594j),\n",
       " (2.3546461998304493-0.3144074468702735j),\n",
       " (0.36643115409781957-2.347112902765864j),\n",
       " (-2.14676087584405-1.01716690418473j),\n",
       " (-1.5843409175155654+1.7700493287220547j),\n",
       " (1.2479256614814929+2.0213590261107592j),\n",
       " (2.2923195583785305-0.6232830908172614j),\n",
       " (0.05256308993800991-2.374962713517757j),\n",
       " (-2.262499236445498-0.7240911366029805j),\n",
       " (-1.3361340459760314+1.9641681649510507j),\n",
       " (1.5044778293387304+1.8384116051776003j),\n",
       " (2.1896609840784214-0.9211924575397794j),\n",
       " (-0.26222978900424293-2.3610265366535477j),\n",
       " (-2.3384303341634296-0.4182754371078559j),\n",
       " (-1.0644187292803586+2.1237286874223464j),\n",
       " (1.734559648172116+1.6231184787181991j)]"
      ]
     },
     "execution_count": 4,
     "metadata": {},
     "output_type": "execute_result"
    }
   ],
   "source": [
    "[X[1] * (np.exp(5j)) ** e for e in range(20)]"
   ]
  },
  {
   "cell_type": "code",
   "execution_count": 252,
   "metadata": {},
   "outputs": [],
   "source": [
    "def rand_disc(n, minimum=0,maximum=1):\n",
    "    return np.sign(rand.uniform(-1,1,size=n))*rand.uniform(minimum,maximum,size=n)\n",
    "    # return np.exp(rand.uniform(size=n)*np.pi*2j)\n",
    "    # return rand.uniform(minimum,maximum,size=n)*np.exp(rand.uniform(size=n)*np.pi*2j)\n",
    "\n",
    "def calculate_coeff(roots):\n",
    "    \n",
    "    # contains the phi which satisfies (1-phi*z)=0 when z=root\n",
    "    coefs_root_form = -1 / roots\n",
    "    subset_sizes = range(1,len(coefs_root_form)+1)\n",
    "    \n",
    "    # sum all 1 element subsets, then 2 element subsets, ... n element subsets\n",
    "    return np.array([np.sum(np.prod(np.array(list(itertools.combinations(coefs_root_form, subset_size))),axis=1)) for subset_size in subset_sizes])\n",
    "\n",
    "    \"\"\"\n",
    "    for subset_size in range(1,len(roots)):\n",
    "        subsets = np.array(list(itertools.combinations(coefs_root_form, subset_size)))\n",
    "        products = np.sum(np.prod()\n",
    "        print(subsets)\n",
    "      \n",
    "    return\n",
    "    \"\"\"\n",
    "    \n",
    "def eval_poly(coefs, value):\n",
    "    return 1 + np.sum(coefs * (value ** np.arange(1,len(coefs)+1)))"
   ]
  },
  {
   "cell_type": "code",
   "execution_count": 253,
   "metadata": {},
   "outputs": [
    {
     "name": "stdout",
     "output_type": "stream",
     "text": [
      "[0. 0. 0. 0. 0. 0.]\n"
     ]
    }
   ],
   "source": [
    "np.set_printoptions(suppress=True, precision=3)\n",
    "\n",
    "roots = rand_disc(6,2,3)\n",
    "coefs = calculate_coeff(roots)\n",
    "\n",
    "print(np.array(list([eval_poly(coefs,root) for root in roots])))"
   ]
  },
  {
   "cell_type": "code",
   "execution_count": 254,
   "metadata": {},
   "outputs": [
    {
     "data": {
      "text/plain": [
       "array([-2.083,  1.458, -0.417,  0.042])"
      ]
     },
     "execution_count": 254,
     "metadata": {},
     "output_type": "execute_result"
    }
   ],
   "source": [
    "\n",
    "\n",
    "calculate_coeff(np.arange(1,5))"
   ]
  },
  {
   "cell_type": "code",
   "execution_count": 329,
   "metadata": {},
   "outputs": [],
   "source": [
    "tlen = 100\n",
    "X = rand_disc(tlen)\n",
    "l = 6\n",
    "\n",
    "ar_roots = rand_disc(l,1.1,1.2)\n",
    "ar_coeffs = -calculate_coeff(ar_roots)\n",
    "\n",
    "for i in range(tlen-l):\n",
    "    X[i+l] = np.sum(ar_coeffs * X[i:i+l])"
   ]
  },
  {
   "cell_type": "code",
   "execution_count": 330,
   "metadata": {},
   "outputs": [
    {
     "data": {
      "image/png": "[encoded data removed]",
      "text/plain": [
       "<Figure size 432x288 with 1 Axes>"
      ]
     },
     "metadata": {
      "needs_background": "light"
     },
     "output_type": "display_data"
    },
    {
     "data": {
      "text/plain": [
       "array([ 1.191, -1.116, -1.11 ,  1.198,  1.174,  1.141])"
      ]
     },
     "execution_count": 330,
     "metadata": {},
     "output_type": "execute_result"
    }
   ],
   "source": [
    "plotTS(X)\n",
    "ar_roots"
   ]
  }
 ],
 "metadata": {
  "kernelspec": {
   "display_name": "Python 3",
   "language": "python",
   "name": "python3"
  },
  "language_info": {
   "codemirror_mode": {
    "name": "ipython",
    "version": 3
   },
   "file_extension": ".py",
   "mimetype": "text/x-python",
   "name": "python",
   "nbconvert_exporter": "python",
   "pygments_lexer": "ipython3",
   "version": "3.7.3"
  }
 },
 "nbformat": 4,
 "nbformat_minor": 2
}
