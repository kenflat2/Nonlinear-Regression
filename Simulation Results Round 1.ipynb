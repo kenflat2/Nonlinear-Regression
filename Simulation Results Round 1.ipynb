{
 "cells": [
  {
   "cell_type": "code",
   "execution_count": 1,
   "metadata": {},
   "outputs": [],
   "source": [
    "import numpy as np\n",
    "import numpy.linalg as la\n",
    "import numpy.random as rand\n",
    "import pandas as pd\n",
    "import matplotlib as mpl\n",
    "import matplotlib.pyplot as plt\n",
    "import itertools\n",
    "from mpl_toolkits.mplot3d import Axes3D\n",
    "import math\n",
    "from matplotlib import cm\n",
    "from scipy.integrate import odeint\n",
    "from scipy import stats\n",
    "from EDMtoolkit import *\n",
    "from modelSystems import *\n",
    "import datetime\n",
    "\n",
    "plt.rcParams['text.usetex'] = True\n",
    "\n",
    "%load_ext autoreload\n",
    "%autoreload 2\n",
    "%matplotlib notebook"
   ]
  },
  {
   "cell_type": "markdown",
   "metadata": {},
   "source": [
    "# Generate Series from a Linear Model"
   ]
  },
  {
   "cell_type": "code",
   "execution_count": 2,
   "metadata": {},
   "outputs": [],
   "source": [
    "def generateLinearSeries(length=200,pro_noise=0.0,p=3, ns=False):\n",
    "    E1 = np.exp(rand.random(p)*1j)\n",
    "    E2 = np.exp(rand.random(p)*1j)\n",
    "    \n",
    "    # generate column vector basis of R^p, ensure non singular\n",
    "    V1 = rand.random((p,p))\n",
    "    V2 = rand.random((p,p))\n",
    "    while abs(la.det(V1)) < 0.01 or abs(la.det(V2)) < 0.01:\n",
    "        V1 = rand.random((p,p))\n",
    "        V2 = rand.random((p,p))\n",
    "        \n",
    "    # V is our basis of eigenvectors which shift linearly from V1\n",
    "    # to V2 over the course of the time series. The eigenvalues\n",
    "    # also move similarly\n",
    "    V = lambda t: V1 + t * (V2 - V1)\n",
    "    E = lambda t: E1 + t * (E2 - E1)\n",
    "    A = lambda t: V(t) @ np.identity(p) * E(t) @ la.inv(V(t))\n",
    "    \n",
    "    X = np.zeros((length,p),dtype=complex)\n",
    "    X[0] = rand.normal(p)\n",
    "\n",
    "    for i in range(length-1):\n",
    "        t = i / (length-1) if ns else 0\n",
    "        X[i+1] = (A(t) @ X[i]) + rand.normal(0,pro_noise,p)\n",
    "    \n",
    "    return standardize(X[:,0]) + np.linspace(0,2,num=length) if ns else X[:,0]"
   ]
  },
  {
   "cell_type": "code",
   "execution_count": 3,
   "metadata": {},
   "outputs": [
    {
     "name": "stderr",
     "output_type": "stream",
     "text": [
      "c:\\users\\kenneth gee\\appdata\\local\\programs\\python\\python37-32\\lib\\site-packages\\matplotlib\\cbook\\__init__.py:1390: ComplexWarning: Casting complex values to real discards the imaginary part\n",
      "  return np.asarray(x, float)\n"
     ]
    },
    {
     "data": {
      "image/png": "[encoded data removed]",
      "text/plain": [
       "<Figure size 432x288 with 1 Axes>"
      ]
     },
     "metadata": {
      "needs_background": "light"
     },
     "output_type": "display_data"
    }
   ],
   "source": [
    "plotTS(generateLinearSeries(p=5, ns=False))"
   ]
  },
  {
   "cell_type": "code",
   "execution_count": 9,
   "metadata": {},
   "outputs": [],
   "source": [
    "theta = lambda t: (1+t)*np.pi/2\n",
    "A = lambda theta: np.array([[np.cos(theta),-np.sin(theta)],[np.sin(theta),np.cos(theta)]])"
   ]
  },
  {
   "cell_type": "code",
   "execution_count": 12,
   "metadata": {},
   "outputs": [
    {
     "data": {
      "text/plain": [
       "array([[ 6.123234e-17, -1.000000e+00],\n",
       "       [ 1.000000e+00,  6.123234e-17]])"
      ]
     },
     "execution_count": 12,
     "metadata": {},
     "output_type": "execute_result"
    }
   ],
   "source": [
    "A(theta(0))"
   ]
  },
  {
   "cell_type": "code",
   "execution_count": 295,
   "metadata": {},
   "outputs": [],
   "source": [
    "# Observation Noise versus Nonstationarity Rate\n",
    "T = 200\n",
    "o_n = 0.1\n",
    "N_replicates = 100\n",
    "E_max = 5\n",
    "\n",
    "# ts_std is the standard deviation of the time series which\n",
    "# is normalized to 1\n",
    "log_std = 1\n",
    "\n",
    "# nonstationarity status, delta, theta, r_sqrd\n",
    "results = np.zeros((N_replicates * 2, 4))\n",
    "results_index = 0\n",
    "\n",
    "for NS in [True, False]:\n",
    "    for i in range(N_replicates):\n",
    "        Xr = standardize(generateLinearSeries(length=T, p=E_max, ns=NS))\n",
    "        Xr += (rand.normal(0,1,T) * log_std * o_n)\n",
    "        \n",
    "        delta_agg, theta_agg, r_sqrd = get_delta_agg(Xr, E_max, return_forecast_skill=True)\n",
    "\n",
    "        results[results_index] = np.array([int(NS), delta_agg, theta_agg, r_sqrd])\n",
    "        results_index += 1\n",
    "        \n",
    "np.savetxt(f\"linear_obsnoise_vs_NS_Rate.csv\", results, fmt=\"%0.4f,%0.4f,%0.4f,%0.4f\")"
   ]
  },
  {
   "cell_type": "markdown",
   "metadata": {},
   "source": [
    "# Mockup of delta vs theta graph"
   ]
  },
  {
   "cell_type": "code",
   "execution_count": 306,
   "metadata": {},
   "outputs": [],
   "source": [
    "# fill with data of results for Hastings Powell and Logistic in Round 2\n",
    "l_data = np.loadtxt(\"logistic_obsnoise_vs_NS_Rate.csv\",delimiter=',')\n",
    "hp_data = np.loadtxt(\"hastings_powell_obsnoise_vs_NS_Rate.csv\",delimiter=',')\n",
    "lin_data = np.loadtxt(\"linear_obsnoise_vs_NS_Rate.csv\",delimiter=',')\n",
    "\n",
    "l_nonstat = l_data[np.logical_and(l_data[:,0] == 0.1,l_data[:,1] == 2)][:,2:4]\n",
    "l_stat = l_data[np.logical_and(l_data[:,0] == 0.1,l_data[:,1] == 0)][:,2:4]\n",
    "hp_nonstat = hp_data[np.logical_and(hp_data[:,0] == 0.1,hp_data[:,1] == 2)][:,2:4]\n",
    "hp_stat = hp_data[np.logical_and(hp_data[:,0] == 0.1,hp_data[:,1] == 0)][:,2:4]\n",
    "lin_nonstat = lin_data[lin_data[:,0] == 1][:,1:3]\n",
    "lin_stat = lin_data[lin_data[:,0] == 0][:,1:3]"
   ]
  },
  {
   "cell_type": "code",
   "execution_count": 309,
   "metadata": {},
   "outputs": [
    {
     "data": {
      "text/plain": [
       "array([[0.00000e+00, 0.00000e+00],\n",
       "       [9.17000e-01, 0.00000e+00],\n",
       "       [0.00000e+00, 0.00000e+00],\n",
       "       [0.00000e+00, 0.00000e+00],\n",
       "       [4.35500e+00, 7.05400e-01],\n",
       "       [0.00000e+00, 1.80000e-02],\n",
       "       [0.00000e+00, 0.00000e+00],\n",
       "       [3.66000e-01, 0.00000e+00],\n",
       "       [0.00000e+00, 0.00000e+00],\n",
       "       [2.47580e+00, 0.00000e+00],\n",
       "       [4.26040e+01, 0.00000e+00],\n",
       "       [0.00000e+00, 2.49300e-01],\n",
       "       [0.00000e+00, 3.60000e-02],\n",
       "       [5.41530e+00, 1.05900e-01],\n",
       "       [0.00000e+00, 0.00000e+00],\n",
       "       [0.00000e+00, 0.00000e+00],\n",
       "       [0.00000e+00, 0.00000e+00],\n",
       "       [0.00000e+00, 0.00000e+00],\n",
       "       [0.00000e+00, 0.00000e+00],\n",
       "       [0.00000e+00, 1.58000e-02],\n",
       "       [0.00000e+00, 1.47400e-01],\n",
       "       [3.25000e-02, 1.65900e+00],\n",
       "       [0.00000e+00, 1.37500e-01],\n",
       "       [1.07962e+01, 0.00000e+00],\n",
       "       [0.00000e+00, 0.00000e+00],\n",
       "       [2.24615e+01, 0.00000e+00],\n",
       "       [0.00000e+00, 0.00000e+00],\n",
       "       [0.00000e+00, 0.00000e+00],\n",
       "       [0.00000e+00, 0.00000e+00],\n",
       "       [0.00000e+00, 0.00000e+00],\n",
       "       [9.30550e+00, 0.00000e+00],\n",
       "       [0.00000e+00, 0.00000e+00],\n",
       "       [0.00000e+00, 0.00000e+00],\n",
       "       [2.52900e-01, 0.00000e+00],\n",
       "       [0.00000e+00, 0.00000e+00],\n",
       "       [0.00000e+00, 8.63700e-01],\n",
       "       [0.00000e+00, 5.28000e-02],\n",
       "       [0.00000e+00, 0.00000e+00],\n",
       "       [0.00000e+00, 1.17500e-01],\n",
       "       [0.00000e+00, 0.00000e+00],\n",
       "       [0.00000e+00, 0.00000e+00],\n",
       "       [0.00000e+00, 0.00000e+00],\n",
       "       [0.00000e+00, 1.00300e-01],\n",
       "       [0.00000e+00, 0.00000e+00],\n",
       "       [7.09070e+00, 0.00000e+00],\n",
       "       [0.00000e+00, 2.39700e-01],\n",
       "       [0.00000e+00, 0.00000e+00],\n",
       "       [0.00000e+00, 0.00000e+00],\n",
       "       [0.00000e+00, 0.00000e+00],\n",
       "       [0.00000e+00, 0.00000e+00],\n",
       "       [0.00000e+00, 3.11800e-01],\n",
       "       [0.00000e+00, 0.00000e+00],\n",
       "       [8.11000e-02, 0.00000e+00],\n",
       "       [0.00000e+00, 1.62000e-01],\n",
       "       [1.15822e+01, 0.00000e+00],\n",
       "       [5.97770e+00, 0.00000e+00],\n",
       "       [0.00000e+00, 0.00000e+00],\n",
       "       [0.00000e+00, 2.60000e-01],\n",
       "       [0.00000e+00, 6.30000e-02],\n",
       "       [0.00000e+00, 0.00000e+00],\n",
       "       [0.00000e+00, 0.00000e+00],\n",
       "       [0.00000e+00, 0.00000e+00],\n",
       "       [0.00000e+00, 8.59600e-01],\n",
       "       [0.00000e+00, 2.34000e-02],\n",
       "       [0.00000e+00, 0.00000e+00],\n",
       "       [0.00000e+00, 1.80000e-02],\n",
       "       [0.00000e+00, 0.00000e+00],\n",
       "       [0.00000e+00, 0.00000e+00],\n",
       "       [0.00000e+00, 0.00000e+00],\n",
       "       [2.79200e-01, 0.00000e+00],\n",
       "       [0.00000e+00, 0.00000e+00],\n",
       "       [0.00000e+00, 0.00000e+00],\n",
       "       [0.00000e+00, 4.32000e-02],\n",
       "       [0.00000e+00, 4.59000e-02],\n",
       "       [0.00000e+00, 0.00000e+00],\n",
       "       [0.00000e+00, 0.00000e+00],\n",
       "       [0.00000e+00, 1.72800e-01],\n",
       "       [0.00000e+00, 0.00000e+00],\n",
       "       [0.00000e+00, 0.00000e+00],\n",
       "       [0.00000e+00, 1.44000e-01],\n",
       "       [0.00000e+00, 5.34900e-01],\n",
       "       [0.00000e+00, 0.00000e+00],\n",
       "       [0.00000e+00, 3.24000e-02],\n",
       "       [0.00000e+00, 0.00000e+00],\n",
       "       [0.00000e+00, 0.00000e+00],\n",
       "       [3.67230e+01, 0.00000e+00],\n",
       "       [0.00000e+00, 1.58000e-02],\n",
       "       [0.00000e+00, 0.00000e+00],\n",
       "       [0.00000e+00, 1.80000e-02],\n",
       "       [0.00000e+00, 0.00000e+00],\n",
       "       [0.00000e+00, 1.95000e-01],\n",
       "       [0.00000e+00, 0.00000e+00],\n",
       "       [0.00000e+00, 1.58000e-02],\n",
       "       [0.00000e+00, 0.00000e+00],\n",
       "       [0.00000e+00, 0.00000e+00],\n",
       "       [0.00000e+00, 0.00000e+00],\n",
       "       [0.00000e+00, 1.34700e-01],\n",
       "       [0.00000e+00, 0.00000e+00],\n",
       "       [0.00000e+00, 4.32000e-02],\n",
       "       [0.00000e+00, 0.00000e+00]])"
      ]
     },
     "execution_count": 309,
     "metadata": {},
     "output_type": "execute_result"
    }
   ],
   "source": [
    "lin_stat"
   ]
  },
  {
   "cell_type": "code",
   "execution_count": 330,
   "metadata": {},
   "outputs": [
    {
     "data": {
      "image/png": "[encoded data removed]",
      "text/plain": [
       "<Figure size 576x576 with 1 Axes>"
      ]
     },
     "metadata": {
      "needs_background": "light"
     },
     "output_type": "display_data"
    }
   ],
   "source": [
    "# we assume T=200, obs=0.2, no process noise.\n",
    "\n",
    "size = 100\n",
    "\n",
    "dvt_fig, dvt_ax = plt.subplots(1, figsize=(8,8))\n",
    "dvt_ax.set_xlabel(r\"$\\theta$\",fontsize=40)\n",
    "dvt_ax.set_ylabel(r\"$\\delta$\",fontsize=40)\n",
    "# dvt_ax.set_xticks([])\n",
    "dvt_ax.set_yticks([])\n",
    "\n",
    "dvt_ax.scatter(l_stat[:,1], l_stat[:,0], c=\"dodgerblue\", s=size, edgecolors=\"black\", label=\"Logistic Stationary\")\n",
    "dvt_ax.scatter(l_nonstat[:,1], l_nonstat[:,0], c=\"orange\", s=size, edgecolors=\"black\", label=\"Logistic Nonstationary\")\n",
    "dvt_ax.scatter(hp_stat[:,1], hp_stat[:,0], c=\"dodgerblue\",marker=\"v\", s=size, edgecolors=\"black\", label=\"Hastings Powell Stationary\")\n",
    "dvt_ax.scatter(hp_nonstat[:,1], hp_nonstat[:,0], c=\"orange\",marker=\"v\", s=size, edgecolors=\"black\", label=\"Hastings Powell Nonstationary\")\n",
    "#dvt_ax.scatter(lin_stat[:,1], lin_stat[:,0], c=\"dodgerblue\",marker=\">\", s=size, edgecolors=\"black\", label=\"Linear Stationary\")\n",
    "#dvt_ax.scatter(lin_nonstat[:,1], lin_nonstat[:,0], c=\"orange\",marker=\">\", s=size, edgecolors=\"black\", label=\"Linear Nonstationary\")\n",
    "\n",
    "plt.legend()\n",
    "plt.show()"
   ]
  },
  {
   "cell_type": "markdown",
   "metadata": {},
   "source": [
    "# Old Code"
   ]
  },
  {
   "cell_type": "code",
   "execution_count": null,
   "metadata": {},
   "outputs": [],
   "source": [
    "def rand_disc(n, minimum=0,maximum=1):\n",
    "    return np.sign(rand.uniform(-1,1,size=n))*rand.uniform(minimum,maximum,size=n)\n",
    "    # return np.exp(rand.uniform(size=n)*np.pi*2j)\n",
    "    # return rand.uniform(minimum,maximum,size=n)*np.exp(rand.uniform(size=n)*np.pi*2j)\n",
    "\n",
    "def calculate_coeff(roots):\n",
    "    \n",
    "    # contains the phi which satisfies (1-phi*z)=0 when z=root\n",
    "    coefs_root_form = -1 / roots\n",
    "    subset_sizes = range(1,len(coefs_root_form)+1)\n",
    "    \n",
    "    # sum all 1 element subsets, then 2 element subsets, ... n element subsets\n",
    "    return np.array([np.sum(np.prod(np.array(list(itertools.combinations(coefs_root_form, subset_size))),axis=1)) for subset_size in subset_sizes])\n",
    "    \n",
    "def eval_poly(coefs, value):\n",
    "    return 1 + np.sum(coefs * (value ** np.arange(1,len(coefs)+1)))"
   ]
  },
  {
   "cell_type": "code",
   "execution_count": null,
   "metadata": {},
   "outputs": [],
   "source": [
    "np.set_printoptions(suppress=True, precision=3)\n",
    "\n",
    "roots = rand_disc(10,2,3)\n",
    "coefs = calculate_coeff(roots)\n",
    "\n",
    "print(np.array(list([eval_poly(coefs,root) for root in roots])))"
   ]
  },
  {
   "cell_type": "code",
   "execution_count": null,
   "metadata": {},
   "outputs": [],
   "source": [
    "tlen = 100\n",
    "X = rand_disc(tlen)\n",
    "l = 6\n",
    "\n",
    "ar_roots = rand_disc(l,np.pi,4)\n",
    "ar_coeffs = -calculate_coeff(ar_roots)\n",
    "\n",
    "for i in range(tlen-l):\n",
    "    X[i+l] = np.sum(ar_coeffs * X[i:i+l])\n",
    "    \n",
    "plotTS(X)\n",
    "ar_roots"
   ]
  }
 ],
 "metadata": {
  "kernelspec": {
   "display_name": "Python 3",
   "language": "python",
   "name": "python3"
  },
  "language_info": {
   "codemirror_mode": {
    "name": "ipython",
    "version": 3
   },
   "file_extension": ".py",
   "mimetype": "text/x-python",
   "name": "python",
   "nbconvert_exporter": "python",
   "pygments_lexer": "ipython3",
   "version": "3.7.3"
  }
 },
 "nbformat": 4,
 "nbformat_minor": 2
}
