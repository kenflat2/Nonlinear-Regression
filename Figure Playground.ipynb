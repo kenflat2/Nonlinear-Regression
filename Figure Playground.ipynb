{
 "cells": [
  {
   "cell_type": "code",
   "execution_count": 1,
   "metadata": {},
   "outputs": [
    {
     "name": "stderr",
     "output_type": "stream",
     "text": [
      "c:\\users\\kenneth gee\\appdata\\local\\programs\\python\\python37-32\\lib\\site-packages\\sklearn\\linear_model\\least_angle.py:30: DeprecationWarning: `np.float` is a deprecated alias for the builtin `float`. To silence this warning, use `float` by itself. Doing this will not modify any behavior and is safe. If you specifically wanted the numpy scalar type, use `np.float64` here.\n",
      "Deprecated in NumPy 1.20; for more details and guidance: https://numpy.org/devdocs/release/1.20.0-notes.html#deprecations\n",
      "  method='lar', copy_X=True, eps=np.finfo(np.float).eps,\n",
      "c:\\users\\kenneth gee\\appdata\\local\\programs\\python\\python37-32\\lib\\site-packages\\sklearn\\linear_model\\least_angle.py:167: DeprecationWarning: `np.float` is a deprecated alias for the builtin `float`. To silence this warning, use `float` by itself. Doing this will not modify any behavior and is safe. If you specifically wanted the numpy scalar type, use `np.float64` here.\n",
      "Deprecated in NumPy 1.20; for more details and guidance: https://numpy.org/devdocs/release/1.20.0-notes.html#deprecations\n",
      "  method='lar', copy_X=True, eps=np.finfo(np.float).eps,\n",
      "c:\\users\\kenneth gee\\appdata\\local\\programs\\python\\python37-32\\lib\\site-packages\\sklearn\\linear_model\\least_angle.py:284: DeprecationWarning: `np.float` is a deprecated alias for the builtin `float`. To silence this warning, use `float` by itself. Doing this will not modify any behavior and is safe. If you specifically wanted the numpy scalar type, use `np.float64` here.\n",
      "Deprecated in NumPy 1.20; for more details and guidance: https://numpy.org/devdocs/release/1.20.0-notes.html#deprecations\n",
      "  eps=np.finfo(np.float).eps, copy_Gram=True, verbose=0,\n",
      "c:\\users\\kenneth gee\\appdata\\local\\programs\\python\\python37-32\\lib\\site-packages\\sklearn\\linear_model\\least_angle.py:862: DeprecationWarning: `np.float` is a deprecated alias for the builtin `float`. To silence this warning, use `float` by itself. Doing this will not modify any behavior and is safe. If you specifically wanted the numpy scalar type, use `np.float64` here.\n",
      "Deprecated in NumPy 1.20; for more details and guidance: https://numpy.org/devdocs/release/1.20.0-notes.html#deprecations\n",
      "  eps=np.finfo(np.float).eps, copy_X=True, fit_path=True,\n",
      "c:\\users\\kenneth gee\\appdata\\local\\programs\\python\\python37-32\\lib\\site-packages\\sklearn\\linear_model\\least_angle.py:1101: DeprecationWarning: `np.float` is a deprecated alias for the builtin `float`. To silence this warning, use `float` by itself. Doing this will not modify any behavior and is safe. If you specifically wanted the numpy scalar type, use `np.float64` here.\n",
      "Deprecated in NumPy 1.20; for more details and guidance: https://numpy.org/devdocs/release/1.20.0-notes.html#deprecations\n",
      "  eps=np.finfo(np.float).eps, copy_X=True, fit_path=True,\n",
      "c:\\users\\kenneth gee\\appdata\\local\\programs\\python\\python37-32\\lib\\site-packages\\sklearn\\linear_model\\least_angle.py:1127: DeprecationWarning: `np.float` is a deprecated alias for the builtin `float`. To silence this warning, use `float` by itself. Doing this will not modify any behavior and is safe. If you specifically wanted the numpy scalar type, use `np.float64` here.\n",
      "Deprecated in NumPy 1.20; for more details and guidance: https://numpy.org/devdocs/release/1.20.0-notes.html#deprecations\n",
      "  eps=np.finfo(np.float).eps, positive=False):\n",
      "c:\\users\\kenneth gee\\appdata\\local\\programs\\python\\python37-32\\lib\\site-packages\\sklearn\\linear_model\\least_angle.py:1362: DeprecationWarning: `np.float` is a deprecated alias for the builtin `float`. To silence this warning, use `float` by itself. Doing this will not modify any behavior and is safe. If you specifically wanted the numpy scalar type, use `np.float64` here.\n",
      "Deprecated in NumPy 1.20; for more details and guidance: https://numpy.org/devdocs/release/1.20.0-notes.html#deprecations\n",
      "  max_n_alphas=1000, n_jobs=None, eps=np.finfo(np.float).eps,\n",
      "c:\\users\\kenneth gee\\appdata\\local\\programs\\python\\python37-32\\lib\\site-packages\\sklearn\\linear_model\\least_angle.py:1602: DeprecationWarning: `np.float` is a deprecated alias for the builtin `float`. To silence this warning, use `float` by itself. Doing this will not modify any behavior and is safe. If you specifically wanted the numpy scalar type, use `np.float64` here.\n",
      "Deprecated in NumPy 1.20; for more details and guidance: https://numpy.org/devdocs/release/1.20.0-notes.html#deprecations\n",
      "  max_n_alphas=1000, n_jobs=None, eps=np.finfo(np.float).eps,\n",
      "c:\\users\\kenneth gee\\appdata\\local\\programs\\python\\python37-32\\lib\\site-packages\\sklearn\\linear_model\\least_angle.py:1738: DeprecationWarning: `np.float` is a deprecated alias for the builtin `float`. To silence this warning, use `float` by itself. Doing this will not modify any behavior and is safe. If you specifically wanted the numpy scalar type, use `np.float64` here.\n",
      "Deprecated in NumPy 1.20; for more details and guidance: https://numpy.org/devdocs/release/1.20.0-notes.html#deprecations\n",
      "  eps=np.finfo(np.float).eps, copy_X=True, positive=False):\n",
      "c:\\users\\kenneth gee\\appdata\\local\\programs\\python\\python37-32\\lib\\site-packages\\sklearn\\decomposition\\online_lda.py:29: DeprecationWarning: `np.float` is a deprecated alias for the builtin `float`. To silence this warning, use `float` by itself. Doing this will not modify any behavior and is safe. If you specifically wanted the numpy scalar type, use `np.float64` here.\n",
      "Deprecated in NumPy 1.20; for more details and guidance: https://numpy.org/devdocs/release/1.20.0-notes.html#deprecations\n",
      "  EPS = np.finfo(np.float).eps\n"
     ]
    }
   ],
   "source": [
    "import numpy as np\n",
    "import numpy.linalg as la\n",
    "import numpy.random as rand\n",
    "import pandas as pd\n",
    "import matplotlib.pyplot as plt\n",
    "from mpl_toolkits.mplot3d import Axes3D\n",
    "import math\n",
    "from matplotlib import cm\n",
    "# import timeit\n",
    "from scipy.integrate import odeint\n",
    "from scipy import stats\n",
    "from sklearn.manifold import MDS\n",
    "from matplotlib.ticker import FormatStrFormatter\n",
    "import modelSystems as ms\n",
    "from EDMtoolkit import *\n",
    "from modelSystems import *\n",
    "\n",
    "%matplotlib notebook\n",
    "%load_ext autoreload\n",
    "%autoreload 2"
   ]
  },
  {
   "cell_type": "code",
   "execution_count": 2,
   "metadata": {},
   "outputs": [],
   "source": [
    "nyears = 1\n",
    "\n",
    "settlingTime = 2 ** 10\n",
    "tlen = 2 ** 9\n",
    "end = 2**9 # (3.498901098901099 / (12*reduction)) * tlen # 2**3\n",
    "reduction = 2 ** 0\n",
    "trainToTest = 0.80 # between 0 and 1\n",
    "\n",
    "tr = np.linspace(0, end, num=tlen)\n",
    "t = tr\n",
    "\n",
    "# MAKE SURE TO UPDATE THE DIMENSION WHEN SWITCHING ATTRACTORS\n",
    "dim = 3\n",
    "ndrivers = 1\n",
    "\n",
    "# t0 = np.array([0.34])\n",
    "# t0 = np.ones(3) * 3# np.array([0,5,15])# np.ones(dim) * 0.3333 # np.array([0,5,15]) * 1 # np.zeros(dim)\n",
    "# \n",
    "# t0 = np.ones(5)\n",
    "# t0[0] += 0.1\n",
    "# t0 = np.array([0,5,15])b"
   ]
  },
  {
   "cell_type": "code",
   "execution_count": 3,
   "metadata": {},
   "outputs": [],
   "source": [
    "\"\"\" INITIAL CONDITIONS \"\"\"\n",
    "# x0 = np.array([3,250])\n",
    "x0 = np.array([0.49])\n",
    "#x0 = np.array([0.1,0.4,9])\n",
    "\n",
    "# m = 50\n",
    "# x0 = np.ones(m) * (np.pi ** -1)\n",
    "# x0[0] += 0.2\n",
    "# x0[1] += 0.3\n",
    "# x0 = np.array([1,5,9],dtype=float)\n",
    "\n",
    "\"\"\" DRIVERS \"\"\"\n",
    "# Gmax = lambda t: 0.7 # +0.5*t/tlen\n",
    "r = lambda t: 4 - t / tlen# + 0.5 * np.sin(np.pi * t / tlen)\n",
    "# m = lambda t: 0.3\n",
    "# b1 = lambda t: 5 - 1.5 * np.cos(2*np.pi*t / end)\n",
    "# b1 = lambda t: 4.5 # 2.5 + 4 * t / end\n",
    "# c = lambda t: 2+2*t/256+np.sin(t)\n",
    "\n",
    "\"\"\" GENERATE TS \"\"\"\n",
    "# Xr = ms.generateTimeSeriesContinuous('Lorenz', np.array([1,5,17]))\n",
    "# Xr = generateTimeSeriesContinuous('RosslerP', np.array([1,1,1]), nsargs=(c,), end=256, tlen = 1024, reduction = 4)\n",
    "# Xr = generateTimeSeriesContinuous(\"HastingsPowell\", x0, tlen=tlen, end=end, reduction=reduction, settlingTime=settlingTime)\n",
    "# Xr = standardize(generateTimeSeriesContinuous('HastingsPowellP', x0, nsargs=(b1,), end=end, tlen = tlen, reduction = reduction, settlingTime=settlingTime))[:,0,None]\n",
    "# Xc = generateTimeSeriesDiscrete(DensityDependentMaturation, x0, settlingTime=30, tlen=tlen)\n",
    "# Xc = generateTimeSeriesDiscrete(DensityDependentMaturationP, x0, settlingTime=30, tlen=tlen, nsargs=(Gmax,))\n",
    "# Xr = Xc[:,1,None]\n",
    "Xr = generateTimeSeriesDiscrete(\"LogisticP\", x0, tlen=tlen, nsargs=(r,), settlingTime=settlingTime)\n",
    "# Xr = generateTimeSeriesDiscrete(\"LogisticIslandsP\", x0, nsargs=(r, m), tlen=tlen, settlingTime=settlingTime)[:,4,None]"
   ]
  },
  {
   "cell_type": "code",
   "execution_count": 6,
   "metadata": {},
   "outputs": [
    {
     "data": {
      "text/plain": [
       "'\\nfig, ax = plt.subplots(1, figsize=(6,4))\\nax.scatter(Xc[:,1], Xc[:,0])\\nax.set_xlabel(\"Juveniles\")\\nax.set_ylabel(\"Adults\")\\n\\n# ax[1].plot(Xr[::5,1])\\n# ax[1].set_ylabel(\"Juveniles\")\\n# ax[2].plot(Xr[::5,0])\\n# ax[2].set_ylabel(\"Adults\")\\nplt.tight_layout()\\nplt.show()\\n'"
      ]
     },
     "execution_count": 6,
     "metadata": {},
     "output_type": "execute_result"
    }
   ],
   "source": [
    "\"\"\"\n",
    "fig, ax = plt.subplots(1, figsize=(6,4))\n",
    "ax.scatter(Xc[:,1], Xc[:,0])\n",
    "ax.set_xlabel(\"Juveniles\")\n",
    "ax.set_ylabel(\"Adults\")\n",
    "\n",
    "# ax[1].plot(Xr[::5,1])\n",
    "# ax[1].set_ylabel(\"Juveniles\")\n",
    "# ax[2].plot(Xr[::5,0])\n",
    "# ax[2].set_ylabel(\"Adults\")\n",
    "plt.tight_layout()\n",
    "plt.show()\n",
    "\"\"\""
   ]
  },
  {
   "cell_type": "code",
   "execution_count": 8,
   "metadata": {},
   "outputs": [],
   "source": [
    "# poincareT(Xc[:,1],xlabel=\"Juveniles(t)\", ylabel=\"Juveniles(t-1)\")"
   ]
  },
  {
   "cell_type": "code",
   "execution_count": 9,
   "metadata": {},
   "outputs": [
    {
     "data": {
      "text/plain": [
       "(-25.55, 536.55, -0.037017950494423524, 1.0419222503032997)"
      ]
     },
     "execution_count": 9,
     "metadata": {},
     "output_type": "execute_result"
    },
    {
     "data": {
      "image/png": "[encoded data removed]",
      "text/plain": [
       "<Figure size 432x72 with 1 Axes>"
      ]
     },
     "metadata": {},
     "output_type": "display_data"
    }
   ],
   "source": [
    "fig, ax = plt.subplots(1, figsize=(6,1))\n",
    "ax.set_xticks([])\n",
    "ax.set_yticks([])\n",
    "ax.plot(Xr,c=\"black\")\n",
    "ax.axis(\"off\")"
   ]
  },
  {
   "cell_type": "code",
   "execution_count": 14,
   "metadata": {},
   "outputs": [],
   "source": [
    "X, Y = delayEmbed(Xr, 3, 1, 1)\n",
    "\n",
    "x = X[-1]\n",
    "weights = np.exp(-la.norm(X-x,axis=1)*0.5)"
   ]
  },
  {
   "cell_type": "code",
   "execution_count": 15,
   "metadata": {},
   "outputs": [
    {
     "data": {
      "text/plain": [
       "(-25.586735039699064, 537.3110460325269, -0.0232663766016062, 1.04431456421529)"
      ]
     },
     "execution_count": 15,
     "metadata": {},
     "output_type": "execute_result"
    },
    {
     "data": {
      "image/png": "[encoded data removed]",
      "text/plain": [
       "<Figure size 432x72 with 1 Axes>"
      ]
     },
     "metadata": {},
     "output_type": "display_data"
    }
   ],
   "source": [
    "fig, ax = plt.subplots(1, figsize=(6,1))\n",
    "ax.set_xticks([])\n",
    "ax.set_yticks([])\n",
    "ax.scatter(np.arange(Y.shape[0]),X[:,0],c=weights,s=0.1,cmap=\"Reds\")\n",
    "ax.scatter(Y.shape[0], Y[-1], c=\"red\", s=20, marker=\"o\")\n",
    "ax.plot(Y,c=\"black\", alpha=0.1)\n",
    "ax.axis('off')"
   ]
  },
  {
   "cell_type": "code",
   "execution_count": null,
   "metadata": {},
   "outputs": [],
   "source": [
    "pred_point = np.array([-1.75,-1.75])\n",
    "pred_point_line = np.array([[-1.75,-1.75,-3],\n",
    "                            [-1.75,-1.75, 1]])\n",
    "\n",
    "norms = la.norm(Xn - pred_point,axis=1)\n",
    "d = np.mean(norms)\n",
    "\n",
    "weights = np.exp(-1*((thetaNS-3)*norms)/d)\n",
    "W = np.diag(weights)\n",
    "\n",
    "M = np.hstack([Xn, np.ones((Xn.shape[0],1))])\n",
    "xaug = np.hstack([pred_point, 1])\n",
    "xaug = np.reshape(xaug, (1,xaug.shape[0]))\n",
    "C = la.pinv(W@M) @ W @ Yn\n",
    "\n",
    "res = np.linspace(pred_point[0]-1,pred_point[0]+1,num=3)\n",
    "Xm, Ym = np.meshgrid(res,res)\n",
    "Zm = np.zeros((3,3))\n",
    "for i in range(3):\n",
    "    for j in range(3):\n",
    "        Zm[i,j] = np.dot(C.flatten(),np.array([Xm[i,j],Ym[i,j],1]))"
   ]
  },
  {
   "cell_type": "code",
   "execution_count": null,
   "metadata": {},
   "outputs": [],
   "source": [
    "\n",
    "\n",
    "fig = plt.figure()\n",
    "ax = fig.add_subplot(projection='3d')\n",
    "ax.scatter(Xn[:,0],Xn[:,1],Yn,c=weights/np.ptp(weights),cmap=\"Reds\",s=50)\n",
    "ax.scatter(Xn[:,0],Xn[:,1],Yn,c='black',alpha=1,s=5)\n",
    "ax.set_xticks([])\n",
    "ax.set_yticks([])\n",
    "ax.set_zticks([])\n",
    "ax.set_xlabel(\"x(t)\")\n",
    "ax.set_ylabel(\"x(t-1)\")\n",
    "ax.set_zlabel(\"x(t+1)\")\n",
    "ax.plot(pred_point_line[:,0],pred_point_line[:,1],pred_point_line[:,2],c=\"red\")\n",
    "ax.plot_surface(Xm, Ym, Zm, alpha=0.25,cmap=cm.autumn)"
   ]
  }
 ],
 "metadata": {
  "kernelspec": {
   "display_name": "Python 3",
   "language": "python",
   "name": "python3"
  },
  "language_info": {
   "codemirror_mode": {
    "name": "ipython",
    "version": 3
   },
   "file_extension": ".py",
   "mimetype": "text/x-python",
   "name": "python",
   "nbconvert_exporter": "python",
   "pygments_lexer": "ipython3",
   "version": "3.7.3"
  }
 },
 "nbformat": 4,
 "nbformat_minor": 2
}
