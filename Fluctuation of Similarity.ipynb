{
 "cells": [
  {
   "cell_type": "code",
   "execution_count": 1,
   "metadata": {},
   "outputs": [],
   "source": [
    "import numpy as np\n",
    "import numpy.linalg as la\n",
    "import numpy.random as rand\n",
    "import pandas as pd\n",
    "import matplotlib.pyplot as plt\n",
    "import matplotlib.colors as mcolors\n",
    "from mpl_toolkits.mplot3d import Axes3D\n",
    "from scipy.integrate import odeint\n"
   ]
  },
  {
   "cell_type": "code",
   "execution_count": 2,
   "metadata": {},
   "outputs": [
    {
     "data": {
      "text/plain": [
       "'\\ndef lr(X,r):\\n    # increase the border e depending on one std distance in given dimension\\n    global dim \\n    e = 0.5 * ((dim) ** 0.5)\\n    \\n    ind = e > la.norm(X - X[r],axis=1)\\n    \\n    neighbors = X[ind]\\n    neighborIndexes = np.arange(0,X.shape[0],1)[ind]\\n    \\n    l_r = np.sum(np.absolute(neighborIndexes - r)) / neighborIndexes.shape[0]\\n    \\n    return l_r\\nprint(X.shape[0])\\nLR = np.zeros((X.shape[0]))\\nfor i in range(X.shape[0]):\\n    LR[i] = lr(X,i)\\n# print(LR)\\n\\nfig3 = plt.figure(3)\\nif dim == 1:\\n    ax3 = plt.subplot()\\n    ax3.plot(X,\"b\") # states\\nelif dim == 2:\\n    ax3 = plt.subplot()\\n    ax3.plot(X[:,0],X[:,1])\\nelse:\\n    ax3 = fig2.gca(projection=\"3d\")\\n    ax3.plot(X[:,0],X[:,1],X[:,2])\\n    \\n# ax3 = fig3.add_subplot(projection=\"3d\")\\n# ax3.scatter(X[:,0],X[:,1],X[:,2],c=\"b\",alpha=0.5)\\nlrfig = plt.figure(4)\\naxlr = lrfig.add_subplot(title=\"Lr\")\\naxlr.plot(LR,c=\"y\")\\n\\nplt.show()\\n'"
      ]
     },
     "execution_count": 2,
     "metadata": {},
     "output_type": "execute_result"
    }
   ],
   "source": [
    "\"\"\"\n",
    "def lr(X,r):\n",
    "    # increase the border e depending on one std distance in given dimension\n",
    "    global dim \n",
    "    e = 0.5 * ((dim) ** 0.5)\n",
    "    \n",
    "    ind = e > la.norm(X - X[r],axis=1)\n",
    "    \n",
    "    neighbors = X[ind]\n",
    "    neighborIndexes = np.arange(0,X.shape[0],1)[ind]\n",
    "    \n",
    "    l_r = np.sum(np.absolute(neighborIndexes - r)) / neighborIndexes.shape[0]\n",
    "    \n",
    "    return l_r\n",
    "print(X.shape[0])\n",
    "LR = np.zeros((X.shape[0]))\n",
    "for i in range(X.shape[0]):\n",
    "    LR[i] = lr(X,i)\n",
    "# print(LR)\n",
    "\n",
    "fig3 = plt.figure(3)\n",
    "if dim == 1:\n",
    "    ax3 = plt.subplot()\n",
    "    ax3.plot(X,\"b\") # states\n",
    "elif dim == 2:\n",
    "    ax3 = plt.subplot()\n",
    "    ax3.plot(X[:,0],X[:,1])\n",
    "else:\n",
    "    ax3 = fig2.gca(projection=\"3d\")\n",
    "    ax3.plot(X[:,0],X[:,1],X[:,2])\n",
    "    \n",
    "# ax3 = fig3.add_subplot(projection=\"3d\")\n",
    "# ax3.scatter(X[:,0],X[:,1],X[:,2],c=\"b\",alpha=0.5)\n",
    "lrfig = plt.figure(4)\n",
    "axlr = lrfig.add_subplot(title=\"Lr\")\n",
    "axlr.plot(LR,c=\"y\")\n",
    "\n",
    "plt.show()\n",
    "\"\"\""
   ]
  },
  {
   "cell_type": "code",
   "execution_count": 3,
   "metadata": {},
   "outputs": [
    {
     "data": {
      "text/plain": [
       "'\\nLRsort = sorted(LR)\\n\\nfig4, axLRsorted = plt.subplots(1,2)\\naxLRsorted[0].plot(LRsort)\\naxLRsorted[1].hist(LRsort)\\n\\nprint(np.median(LR))\\n\\nplt.show()\\n'"
      ]
     },
     "execution_count": 3,
     "metadata": {},
     "output_type": "execute_result"
    }
   ],
   "source": [
    "\"\"\"\n",
    "LRsort = sorted(LR)\n",
    "\n",
    "fig4, axLRsorted = plt.subplots(1,2)\n",
    "axLRsorted[0].plot(LRsort)\n",
    "axLRsorted[1].hist(LRsort)\n",
    "\n",
    "print(np.median(LR))\n",
    "\n",
    "plt.show()\n",
    "\"\"\""
   ]
  },
  {
   "cell_type": "code",
   "execution_count": 4,
   "metadata": {},
   "outputs": [
    {
     "data": {
      "text/plain": [
       "'\\ndef U(x, xj, k):\\n    return sorted(range(len(x)-1), key = lambda i : la.norm(xj - x[i]), reverse=False)[1:k+1]\\n'"
      ]
     },
     "execution_count": 4,
     "metadata": {},
     "output_type": "execute_result"
    }
   ],
   "source": [
    "\"\"\"\n",
    "def U(x, xj, k):\n",
    "    return sorted(range(len(x)-1), key = lambda i : la.norm(xj - x[i]), reverse=False)[1:k+1]\n",
    "\"\"\""
   ]
  },
  {
   "cell_type": "code",
   "execution_count": 5,
   "metadata": {},
   "outputs": [
    {
     "data": {
      "text/plain": [
       "'\\n# U testing\\ntest = 100 - (np.arange(0,20,1)-10) ** 2\\nprint(U(test,0,5), test[U(test,0,5)])\\n\\nplt.plot(test)\\nplt.show()\\n'"
      ]
     },
     "execution_count": 5,
     "metadata": {},
     "output_type": "execute_result"
    }
   ],
   "source": [
    "\"\"\"\n",
    "# U testing\n",
    "test = 100 - (np.arange(0,20,1)-10) ** 2\n",
    "print(U(test,0,5), test[U(test,0,5)])\n",
    "\n",
    "plt.plot(test)\n",
    "plt.show()\n",
    "\"\"\""
   ]
  },
  {
   "cell_type": "code",
   "execution_count": 6,
   "metadata": {},
   "outputs": [
    {
     "data": {
      "text/plain": [
       "'\\n# conditional distance\\ndef dc(x, j, t, k):\\n    u = U(x, x[j], k)\\n    \\n    # print(u)\\n    \\n    D = 0\\n    K = k\\n    for l in u:\\n        if j+t < x.shape[0] and l+t < x.shape[0]:\\n            D += la.norm(x[j+t] - x[l+t])\\n        else:\\n            print(\"cannot access element\")\\n            k -= 1\\n    \\n    return D / K\\n\\n# neighbor distance\\ndef d(x, j, k):\\n    u = U(x, x[j], k)\\n    \\n    D = 0\\n    for l in u:\\n        D += la.norm(x[j] - x[l])\\n    \\n    return D / k\\n'"
      ]
     },
     "execution_count": 6,
     "metadata": {},
     "output_type": "execute_result"
    }
   ],
   "source": [
    "\"\"\"\n",
    "# conditional distance\n",
    "def dc(x, j, t, k):\n",
    "    u = U(x, x[j], k)\n",
    "    \n",
    "    # print(u)\n",
    "    \n",
    "    D = 0\n",
    "    K = k\n",
    "    for l in u:\n",
    "        if j+t < x.shape[0] and l+t < x.shape[0]:\n",
    "            D += la.norm(x[j+t] - x[l+t])\n",
    "        else:\n",
    "            print(\"cannot access element\")\n",
    "            k -= 1\n",
    "    \n",
    "    return D / K\n",
    "\n",
    "# neighbor distance\n",
    "def d(x, j, k):\n",
    "    u = U(x, x[j], k)\n",
    "    \n",
    "    D = 0\n",
    "    for l in u:\n",
    "        D += la.norm(x[j] - x[l])\n",
    "    \n",
    "    return D / k\n",
    "\"\"\""
   ]
  },
  {
   "cell_type": "code",
   "execution_count": 7,
   "metadata": {},
   "outputs": [
    {
     "data": {
      "text/plain": [
       "'\\n# distance tests\\nprint(test[U(test,test[0],5)])\\nprint(d(test, 0, 5))\\nprint(dc(test, 0, 2, 5))\\n\\nunif = np.ones(50)\\nprint(d(unif, 4, 10))\\nprint(dc(unif, 4, 5, 10))\\n'"
      ]
     },
     "execution_count": 7,
     "metadata": {},
     "output_type": "execute_result"
    }
   ],
   "source": [
    "\"\"\"\n",
    "# distance tests\n",
    "print(test[U(test,test[0],5)])\n",
    "print(d(test, 0, 5))\n",
    "print(dc(test, 0, 2, 5))\n",
    "\n",
    "unif = np.ones(50)\n",
    "print(d(unif, 4, 10))\n",
    "print(dc(unif, 4, 5, 10))\n",
    "\"\"\""
   ]
  },
  {
   "cell_type": "code",
   "execution_count": 8,
   "metadata": {},
   "outputs": [
    {
     "data": {
      "text/plain": [
       "'\\n# dynamic similarity\\ndef S(x, j, t, k):\\n    return d(x, j, k) / dc(x, j, t, k)\\n'"
      ]
     },
     "execution_count": 8,
     "metadata": {},
     "output_type": "execute_result"
    }
   ],
   "source": [
    "\"\"\"\n",
    "# dynamic similarity\n",
    "def S(x, j, t, k):\n",
    "    return d(x, j, k) / dc(x, j, t, k)\n",
    "\"\"\""
   ]
  },
  {
   "cell_type": "code",
   "execution_count": 9,
   "metadata": {},
   "outputs": [
    {
     "data": {
      "text/plain": [
       "'\\ns = np.zeros(test.shape[0])\\nfor i in range(len(s)):\\n    s[i] = S(test, i, 1, 1)\\n    \\nplt.plot(s)\\nplt.show()\\n'"
      ]
     },
     "execution_count": 9,
     "metadata": {},
     "output_type": "execute_result"
    }
   ],
   "source": [
    "\"\"\"\n",
    "s = np.zeros(test.shape[0])\n",
    "for i in range(len(s)):\n",
    "    s[i] = S(test, i, 1, 1)\n",
    "    \n",
    "plt.plot(s)\n",
    "plt.show()\n",
    "\"\"\""
   ]
  },
  {
   "cell_type": "code",
   "execution_count": 10,
   "metadata": {},
   "outputs": [
    {
     "data": {
      "text/plain": [
       "'\\ndef flus(x, k, low, upp):\\n    s = np.zeros(upp-low)\\n    for i in range(low,upp):\\n        s[i-low] = S(x, i, 1, k)\\n    \\n    mus = sum(s) / (upp - low)\\n    \\n    fl = sum( (s-mus)**2 )\\n    return fl\\n'"
      ]
     },
     "execution_count": 10,
     "metadata": {},
     "output_type": "execute_result"
    }
   ],
   "source": [
    "\"\"\"\n",
    "def flus(x, k, low, upp):\n",
    "    s = np.zeros(upp-low)\n",
    "    for i in range(low,upp):\n",
    "        s[i-low] = S(x, i, 1, k)\n",
    "    \n",
    "    mus = sum(s) / (upp - low)\n",
    "    \n",
    "    fl = sum( (s-mus)**2 )\n",
    "    return fl\n",
    "\"\"\""
   ]
  },
  {
   "cell_type": "code",
   "execution_count": 11,
   "metadata": {},
   "outputs": [
    {
     "data": {
      "text/plain": [
       "'\\nprint(flus(X, 5, 0, 19))\\nwinSize = 100\\n\\nFlucOfSim = np.zeros(tlen - winSize)\\nfor i in range(FlucOfSim.shape[0]):\\n    FlucOfSim[i] = flus(X, 20, i, i+winSize)\\n    print(FlucOfSim[i])\\n'"
      ]
     },
     "execution_count": 11,
     "metadata": {},
     "output_type": "execute_result"
    }
   ],
   "source": [
    "\"\"\"\n",
    "print(flus(X, 5, 0, 19))\n",
    "winSize = 100\n",
    "\n",
    "FlucOfSim = np.zeros(tlen - winSize)\n",
    "for i in range(FlucOfSim.shape[0]):\n",
    "    FlucOfSim[i] = flus(X, 20, i, i+winSize)\n",
    "    print(FlucOfSim[i])\n",
    "\"\"\""
   ]
  },
  {
   "cell_type": "code",
   "execution_count": 12,
   "metadata": {},
   "outputs": [
    {
     "data": {
      "text/plain": [
       "'\\nfig, axs = plt.subplots(2,1)\\n\\naxs[0].plot(X)\\naxs[1].plot(FlucOfSim)\\nplt.show()\\n'"
      ]
     },
     "execution_count": 12,
     "metadata": {},
     "output_type": "execute_result"
    }
   ],
   "source": [
    "\"\"\"\n",
    "fig, axs = plt.subplots(2,1)\n",
    "\n",
    "axs[0].plot(X)\n",
    "axs[1].plot(FlucOfSim)\n",
    "plt.show()\n",
    "\"\"\""
   ]
  },
  {
   "cell_type": "code",
   "execution_count": null,
   "metadata": {},
   "outputs": [],
   "source": []
  }
 ],
 "metadata": {
  "kernelspec": {
   "display_name": "Python 3",
   "language": "python",
   "name": "python3"
  },
  "language_info": {
   "codemirror_mode": {
    "name": "ipython",
    "version": 3
   },
   "file_extension": ".py",
   "mimetype": "text/x-python",
   "name": "python",
   "nbconvert_exporter": "python",
   "pygments_lexer": "ipython3",
   "version": "3.6.5"
  }
 },
 "nbformat": 4,
 "nbformat_minor": 2
}
