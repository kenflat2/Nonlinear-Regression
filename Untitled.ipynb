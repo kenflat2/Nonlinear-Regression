{
 "cells": [
  {
   "cell_type": "code",
   "execution_count": 1,
   "metadata": {},
   "outputs": [],
   "source": [
    "# import stuff\n",
    "import matplotlib.pyplot as plt\n",
    "import numpy as np\n",
    "import pandas as pd\n",
    "import scipy.linalg\n",
    "from numpy import linalg as la\n",
    "from scipy.integrate import odeint\n",
    "from mpl_toolkits.mplot3d import Axes3D\n",
    "from functools import reduce"
   ]
  },
  {
   "cell_type": "code",
   "execution_count": 2,
   "metadata": {},
   "outputs": [],
   "source": [
    "# nearest neighbor prediction code\n",
    "numNeighbors = 3\n",
    "def nearestNeighbors(state, n):\n",
    "    orderedNeighbors = sorted(range(len(trainStates)-1), key = lambda i : la.norm(state - trainStates[i]), reverse=False)\n",
    "    return orderedNeighbors[:n]\n",
    "\n",
    "def nearestNeighborsPrediction(state):\n",
    "    neighborIndexes = nearestNeighbors(state, numNeighbors)\n",
    "    pred1neigh = list(map(lambda i: trainStates[i+1], neighborIndexes))\n",
    "    return sum(pred1neigh) / numNeighbors"
   ]
  },
  {
   "cell_type": "code",
   "execution_count": 4,
   "metadata": {},
   "outputs": [
    {
     "ename": "ModuleNotFoundError",
     "evalue": "No module named 'xlrd'",
     "output_type": "error",
     "traceback": [
      "\u001b[1;31m---------------------------------------------------------------------------\u001b[0m",
      "\u001b[1;31mModuleNotFoundError\u001b[0m                       Traceback (most recent call last)",
      "\u001b[1;32m<ipython-input-4-fefe8c60f797>\u001b[0m in \u001b[0;36m<module>\u001b[1;34m()\u001b[0m\n\u001b[0;32m      1\u001b[0m \u001b[1;31m# Read input data from files\u001b[0m\u001b[1;33m\u001b[0m\u001b[1;33m\u001b[0m\u001b[0m\n\u001b[1;32m----> 2\u001b[1;33m \u001b[1;32mimport\u001b[0m \u001b[0mxlrd\u001b[0m\u001b[1;33m\u001b[0m\u001b[0m\n\u001b[0m\u001b[0;32m      3\u001b[0m \u001b[0mfile\u001b[0m \u001b[1;33m=\u001b[0m \u001b[1;34m\"lynxhare.xls\"\u001b[0m\u001b[1;33m\u001b[0m\u001b[0m\n\u001b[0;32m      4\u001b[0m \u001b[0mdata\u001b[0m \u001b[1;33m=\u001b[0m \u001b[0mpd\u001b[0m\u001b[1;33m.\u001b[0m\u001b[0mread_excel\u001b[0m\u001b[1;33m(\u001b[0m\u001b[0mfile\u001b[0m\u001b[1;33m)\u001b[0m\u001b[1;33m\u001b[0m\u001b[0m\n\u001b[0;32m      5\u001b[0m \u001b[0mprint\u001b[0m\u001b[1;33m(\u001b[0m\u001b[0mdata\u001b[0m\u001b[1;33m)\u001b[0m\u001b[1;33m\u001b[0m\u001b[0m\n",
      "\u001b[1;31mModuleNotFoundError\u001b[0m: No module named 'xlrd'"
     ]
    }
   ],
   "source": [
    "# Read input data from files\n",
    "import xlrd\n",
    "file = \"lynxhare.xls\"\n",
    "data = pd.read_excel(file)\n",
    "print(data)"
   ]
  },
  {
   "cell_type": "code",
   "execution_count": 40,
   "metadata": {},
   "outputs": [
    {
     "name": "stdout",
     "output_type": "stream",
     "text": [
      "[[0.  0.5 0.5]\n",
      " [0.5 0.  0.5]\n",
      " [0.5 0.5 0. ]]\n",
      "[-0.5  1.  -0.5]\n",
      "[[-0.81649658  0.57735027  0.22645541]\n",
      " [ 0.40824829  0.57735027 -0.79259392]\n",
      " [ 0.40824829  0.57735027  0.56613852]]\n",
      "[0 2 1]\n",
      "[[0.57735027]\n",
      " [0.57735027]\n",
      " [0.57735027]]\n",
      "[[0.33333333]\n",
      " [0.33333333]\n",
      " [0.33333333]]\n"
     ]
    }
   ],
   "source": [
    "p = np.array([1/2, 1/2, 1/2])\n",
    "\n",
    "P = np.matrix([[ 0, p[0], 1-p[0]],\n",
    "               [ p[1], 0, 1-p[1]],\n",
    "               [ p[2], 1-p[2], 0]])\n",
    "\n",
    "Peval, Pevec = la.eig(P.T)\n",
    "\n",
    "print(P.T)\n",
    "print(Peval)\n",
    "print(Pevec)\n",
    "\n",
    "print(np.argsort(Peval))\n",
    "v = Pevec[:,np.argsort(Peval)[2]]\n",
    "print( v)\n",
    "v = v / sum(v)\n",
    "print( v)"
   ]
  },
  {
   "cell_type": "code",
   "execution_count": 37,
   "metadata": {},
   "outputs": [
    {
     "name": "stdout",
     "output_type": "stream",
     "text": [
      "[[1.]\n",
      " [1.]\n",
      " [1.]] [[1. 1. 1.]]\n"
     ]
    }
   ],
   "source": [
    "print(v.T, v @ P)"
   ]
  },
  {
   "cell_type": "code",
   "execution_count": 5,
   "metadata": {},
   "outputs": [],
   "source": [
    "t=np.array([[1,1,0,0],[-1,-1,0,0],[-2,-2,2,1],[1,1,-1,0]])\n",
    "tm1 = t-np.identity(A.shape[0])"
   ]
  },
  {
   "cell_type": "code",
   "execution_count": 15,
   "metadata": {},
   "outputs": [
    {
     "data": {
      "text/plain": [
       "array([[0., 0., 0., 0.],\n",
       "       [0., 0., 0., 0.],\n",
       "       [0., 0., 0., 0.],\n",
       "       [0., 0., 0., 0.]])"
      ]
     },
     "execution_count": 15,
     "metadata": {},
     "output_type": "execute_result"
    }
   ],
   "source": [
    "t@t@tm1@tm1"
   ]
  },
  {
   "cell_type": "code",
   "execution_count": 22,
   "metadata": {},
   "outputs": [],
   "source": [
    "A=np.array([[5,1,3],[0,7,6],[0,1,8]])\n",
    "I = np.identity(A.shape[0])"
   ]
  },
  {
   "cell_type": "code",
   "execution_count": 23,
   "metadata": {},
   "outputs": [
    {
     "data": {
      "text/plain": [
       "array([[0., 0., 0.],\n",
       "       [0., 0., 0.],\n",
       "       [0., 0., 0.]])"
      ]
     },
     "execution_count": 23,
     "metadata": {},
     "output_type": "execute_result"
    }
   ],
   "source": [
    "(A-5*I)@(A-10*I)"
   ]
  }
 ],
 "metadata": {
  "kernelspec": {
   "display_name": "Python 3",
   "language": "python",
   "name": "python3"
  },
  "language_info": {
   "codemirror_mode": {
    "name": "ipython",
    "version": 3
   },
   "file_extension": ".py",
   "mimetype": "text/x-python",
   "name": "python",
   "nbconvert_exporter": "python",
   "pygments_lexer": "ipython3",
   "version": "3.7.3"
  }
 },
 "nbformat": 4,
 "nbformat_minor": 2
}
