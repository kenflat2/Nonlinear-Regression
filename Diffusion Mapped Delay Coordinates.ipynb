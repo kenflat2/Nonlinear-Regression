{
 "cells": [
  {
   "cell_type": "code",
   "execution_count": 6,
   "metadata": {},
   "outputs": [],
   "source": [
    "import numpy as np\n",
    "import numpy.linalg as la\n",
    "import matplotlib.pyplot as plt"
   ]
  },
  {
   "cell_type": "code",
   "execution_count": 38,
   "metadata": {},
   "outputs": [],
   "source": [
    "def nearestNeighbors(s0, S, n):\n",
    "    orderedNeighbors = np.argsort(la.norm(s0 - S[:-1],axis=1))\n",
    "    return orderedNeighbors[1:n+1]"
   ]
  },
  {
   "cell_type": "code",
   "execution_count": 60,
   "metadata": {},
   "outputs": [
    {
     "name": "stdout",
     "output_type": "stream",
     "text": [
      "[[0.  0.  0.  0. ]\n",
      " [0.  0.  0.  0.5]\n",
      " [1.  1.  1.  1. ]\n",
      " [1.  1.  1.2 1. ]\n",
      " [0.9 1.  1.  1. ]]\n"
     ]
    }
   ],
   "source": [
    "# Step 1\n",
    "N = 5\n",
    "r = 4\n",
    "\n",
    "\"\"\"\n",
    "X = np.ones((N, r))\n",
    "for i in range(N):\n",
    "    for j in range(r):\n",
    "        X[i,j] = i + j\n",
    "\"\"\"\n",
    "\"\"\"X = np.array([[0,0,1,1],\n",
    "              [0,0,1,1],\n",
    "              [-0.5,0,1,1],\n",
    "              [0,0,1.2,1],\n",
    "              [0,0,1,1]])\n",
    "\"\"\"\n",
    "X = np.array([[0,0,0,0],\n",
    "              [0,0,0,0.5],\n",
    "              [1,1,1,1],\n",
    "              [1,1,1.2,1],\n",
    "              [0.9,1,1,1]])\n",
    "print(X)"
   ]
  },
  {
   "cell_type": "code",
   "execution_count": 61,
   "metadata": {},
   "outputs": [],
   "source": [
    "# Step 2: chose parameters(how ??)\n",
    "a = 1    # bias parameter\n",
    "k = 1  # \n",
    "s = 0 # delay"
   ]
  },
  {
   "cell_type": "code",
   "execution_count": 62,
   "metadata": {},
   "outputs": [
    {
     "name": "stdout",
     "output_type": "stream",
     "text": [
      "Embedding Dimensions:  5 4\n",
      "[[0.  0.  0.  0. ]\n",
      " [0.  0.  0.  0.5]\n",
      " [1.  1.  1.  1. ]\n",
      " [1.  1.  1.2 1. ]\n",
      " [0.9 1.  1.  1. ]] Works as expected\n"
     ]
    }
   ],
   "source": [
    "# Step 3: Weighted Embedding\n",
    "\n",
    "print(\"Embedding Dimensions: \",N-s, r*(s+1))\n",
    "Xemb = np.zeros((N-s, r*(s+1)))\n",
    "for e in range(s+1):\n",
    "    Xemb[:,e*r:(e+1)*r] = np.exp(-k*e) * X[s-e:N-e,:]\n",
    "    \n",
    "print(Xemb, \"Works as expected\")"
   ]
  },
  {
   "cell_type": "code",
   "execution_count": 63,
   "metadata": {},
   "outputs": [],
   "source": [
    "# Step 4: Generate Gaussian Random variables\n",
    "m = Xemb.shape[1] # TODO: find out where m comes from\n",
    "\n",
    "pi = np.random.normal(0,1,(m, r*(s+1)))"
   ]
  },
  {
   "cell_type": "code",
   "execution_count": 64,
   "metadata": {},
   "outputs": [],
   "source": [
    "# Step 5: orthonormalize w/ QR\n",
    "\n",
    "Q, R = la.qr(pi)\n",
    "pihat = Q # is this a random orthonormal basis?\n",
    "\n",
    "np.set_printoptions(suppress=True)\n",
    "# print(pi, pihat, np.sum(pi))"
   ]
  },
  {
   "cell_type": "code",
   "execution_count": 65,
   "metadata": {},
   "outputs": [],
   "source": [
    "# Step 6: form compressed states\n",
    "compressedStates = np.zeros(Xemb.shape) # corresponds to y_i hat\n",
    "\n",
    "for i in range(Xemb.shape[0]):\n",
    "    # print(pihat.shape, Xemb[i,:,None].shape)\n",
    "    compressedStates[i,:] = (pihat @ Xemb[i,:,None]).T"
   ]
  },
  {
   "cell_type": "code",
   "execution_count": 66,
   "metadata": {},
   "outputs": [
    {
     "name": "stdout",
     "output_type": "stream",
     "text": [
      "[[1.]\n",
      " [0.]\n",
      " [3.]\n",
      " [2.]\n",
      " [3.]]\n"
     ]
    }
   ],
   "source": [
    "# Step 7: find those neighbors\n",
    "\n",
    "neighborIndices = np.zeros((Xemb.shape[0],k))\n",
    "\n",
    "for i in range(Xemb.shape[0]):\n",
    "    neighborIndices[i,:] = np.argsort(la.norm(Xemb[i] - Xemb[:-1],axis=1))[1:k+1]\n",
    "    \n",
    "print(neighborIndices)"
   ]
  },
  {
   "cell_type": "code",
   "execution_count": 67,
   "metadata": {},
   "outputs": [
    {
     "ename": "SyntaxError",
     "evalue": "unexpected EOF while parsing (<ipython-input-67-ec0868b4468b>, line 5)",
     "output_type": "error",
     "traceback": [
      "\u001b[1;36m  File \u001b[1;32m\"<ipython-input-67-ec0868b4468b>\"\u001b[1;36m, line \u001b[1;32m5\u001b[0m\n\u001b[1;33m    for j in range(neighborIndices):\u001b[0m\n\u001b[1;37m                                    ^\u001b[0m\n\u001b[1;31mSyntaxError\u001b[0m\u001b[1;31m:\u001b[0m unexpected EOF while parsing\n"
     ]
    }
   ],
   "source": [
    "# Step 8: \n",
    "\n",
    "neighborMatrix = np.zeros((Xemb.shape[0],Xemb.shape[0]))\n",
    "for point in range(neighborIndices.shape[0]):\n",
    "    for neighborIndex in range(neighborIndices.shape[1]):\n",
    "        neighborMatrix"
   ]
  },
  {
   "cell_type": "code",
   "execution_count": null,
   "metadata": {},
   "outputs": [],
   "source": []
  }
 ],
 "metadata": {
  "kernelspec": {
   "display_name": "Python 3",
   "language": "python",
   "name": "python3"
  },
  "language_info": {
   "codemirror_mode": {
    "name": "ipython",
    "version": 3
   },
   "file_extension": ".py",
   "mimetype": "text/x-python",
   "name": "python",
   "nbconvert_exporter": "python",
   "pygments_lexer": "ipython3",
   "version": "3.7.3"
  }
 },
 "nbformat": 4,
 "nbformat_minor": 2
}
