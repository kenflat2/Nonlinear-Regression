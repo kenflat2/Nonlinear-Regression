{
 "cells": [
  {
   "cell_type": "code",
   "execution_count": 9,
   "metadata": {},
   "outputs": [],
   "source": [
    "import numpy as np\n",
    "import matplotlib.pyplot as plt"
   ]
  },
  {
   "cell_type": "code",
   "execution_count": 12,
   "metadata": {},
   "outputs": [],
   "source": [
    "N = 144\n",
    "r = 1080\n",
    "\n",
    "\n",
    "a = 1    # bias parameter\n",
    "k = 0.1  # \n",
    "s = 4 # delay\n",
    "\n",
    "X = np.zeros((N, r))"
   ]
  },
  {
   "cell_type": "code",
   "execution_count": 22,
   "metadata": {},
   "outputs": [
    {
     "name": "stdout",
     "output_type": "stream",
     "text": [
      "Embedding Dimensions:  140 5400\n"
     ]
    }
   ],
   "source": [
    "# Weighted Embedding\n",
    "\n",
    "print(\"Embedding Dimensions: \",N-s, r*(s+1))\n",
    "Xemb = np.zeros((N-s, r*(s+1)))\n",
    "for e in range(s+1):\n",
    "    Xemb[:,e*r:(e+1)*r] = np.exp(-k*e) * X[s-e:N-e,:]"
   ]
  },
  {
   "cell_type": "code",
   "execution_count": null,
   "metadata": {},
   "outputs": [],
   "source": [
    "np.random.rand()"
   ]
  }
 ],
 "metadata": {
  "kernelspec": {
   "display_name": "Python 3",
   "language": "python",
   "name": "python3"
  },
  "language_info": {
   "codemirror_mode": {
    "name": "ipython",
    "version": 3
   },
   "file_extension": ".py",
   "mimetype": "text/x-python",
   "name": "python",
   "nbconvert_exporter": "python",
   "pygments_lexer": "ipython3",
   "version": "3.6.5"
  }
 },
 "nbformat": 4,
 "nbformat_minor": 2
}
