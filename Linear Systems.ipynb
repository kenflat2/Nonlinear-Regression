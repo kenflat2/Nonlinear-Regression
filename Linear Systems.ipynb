{
 "cells": [
  {
   "cell_type": "code",
   "execution_count": 1,
   "metadata": {},
   "outputs": [],
   "source": [
    "import numpy as np\n",
    "import numpy.linalg as la\n",
    "import matplotlib.pyplot as plt\n",
    "from mpl_toolkits.mplot3d import Axes3D\n",
    "from scipy.integrate import odeint"
   ]
  },
  {
   "cell_type": "code",
   "execution_count": 6,
   "metadata": {},
   "outputs": [
    {
     "name": "stdout",
     "output_type": "stream",
     "text": [
      "A = [[ 1  1]\n",
      " [-2 -1]] \n",
      " Eigval = [-0.+1.j -0.-1.j] \n",
      " Eigvecs = \n",
      "[[-0.4082-0.4082j -0.4082+0.4082j]\n",
      " [ 0.8165+0.j      0.8165-0.j    ]]\n",
      "[[ 0.6258 -0.6242]\n",
      " [-0.6242  1.2508]]\n"
     ]
    },
    {
     "data": {
      "image/png": "[encoded data removed]",
      "text/plain": [
       "<Figure size 432x288 with 1 Axes>"
      ]
     },
     "metadata": {
      "needs_background": "light"
     },
     "output_type": "display_data"
    }
   ],
   "source": [
    "d = 2\n",
    "tlen = 300\n",
    "end = 8 * np.pi\n",
    "\n",
    "t = np.linspace(0, end, num=tlen)\n",
    "t0 = np.ones(d) * 0.5\n",
    "\n",
    "\"\"\"\n",
    "A = np.zeros((3,3))\n",
    "for i in range(d):\n",
    "    for j in range(i,d):\n",
    "        r = (np.random.rand() - 0.5) / 8\n",
    "        A[i,j] = r\n",
    "        A[j,i] = r\n",
    "\n",
    "A[0,0] = 1\n",
    "A[0,1] = 1\n",
    "A[0,2] = 1        \n",
    "\"\"\"\n",
    "# a=5\n",
    "# A = np.array([[1,a],[-a,1]])\n",
    "\n",
    "# A = np.array([[-0.34697826, -0.31593745, 0.02486731], [ 0.21653342, -0.41345191, 0.37377893],[ 0.10522816, -0.2791675,  -0.05924747]])\n",
    "A = np.array([[1,1],[-2,-1]]) # Friendly Circular Matrix\n",
    "# A = np.array([[1,1,1],[5,6,3],[0.5,0.1,-2.2]])\n",
    "# A = np.random.rand(d,d) - 0.5\n",
    "# theta = 1.0*np.pi / 3.0 # rotation matrix\n",
    "# A = np.array([[np.cos(theta),-np.sin(theta)],[np.sin(theta),np.cos(theta)]])\n",
    "\n",
    "np.set_printoptions(precision=4, suppress=True)\n",
    "print(\"A = {a} \\n Eigval = {va} \\n Eigvecs = \\n{ve}\".format(a=A, va=la.eig(A)[0],ve=la.eig(A)[1]))\n",
    "\n",
    "def linsys(xi, ti):\n",
    "    return A @ xi #c + np.sin(ti)\n",
    "\n",
    "# Continuous\n",
    "sys = odeint(linsys, t0, t)\n",
    "# print(sys)\n",
    "\"\"\"# Discrete\n",
    "sys = np.ones((tlen,d)) * 0.5\n",
    "for i in range(tlen-1):\n",
    "    sys[i+1] = A @ sys[i] + np.cos(i)\n",
    "\"\"\"\n",
    "    \n",
    "print(np.cov(sys,rowvar=False))\n",
    "    \n",
    "figLin = plt.figure()\n",
    "plt.plot(sys[:,0],sys[:,1])\n",
    "#axLin = plt.axes(projection=\"3d\")\n",
    "#axLin.plot(sys[:,0],sys[:,1],sys[:,2])\n",
    "plt.show()"
   ]
  },
  {
   "cell_type": "code",
   "execution_count": 7,
   "metadata": {},
   "outputs": [
    {
     "name": "stdout",
     "output_type": "stream",
     "text": [
      "(array([0. , 0.5]), array([[0.    , 0.7071],\n",
      "       [1.    , 0.7071]]))\n",
      "(array([-0.+1.j, -0.-1.j]), array([[-0.4082-0.4082j, -0.4082+0.4082j],\n",
      "       [ 0.8165+0.j    ,  0.8165-0.j    ]]))\n",
      "(array([0.382, 2.618]), array([[-0.8507,  0.5257],\n",
      "       [-0.5257, -0.8507]]))\n"
     ]
    }
   ],
   "source": [
    "print(la.eig(np.array([[0.5,0],[0.5,0]])))\n",
    "print(la.eig(np.array([[1,1],[-2,-1]])))\n",
    "print(la.eig(np.array([[1,-1],[-1,2]])))"
   ]
  },
  {
   "cell_type": "code",
   "execution_count": null,
   "metadata": {},
   "outputs": [],
   "source": []
  }
 ],
 "metadata": {
  "kernelspec": {
   "display_name": "Python 3",
   "language": "python",
   "name": "python3"
  },
  "language_info": {
   "codemirror_mode": {
    "name": "ipython",
    "version": 3
   },
   "file_extension": ".py",
   "mimetype": "text/x-python",
   "name": "python",
   "nbconvert_exporter": "python",
   "pygments_lexer": "ipython3",
   "version": "3.6.5"
  }
 },
 "nbformat": 4,
 "nbformat_minor": 2
}
