{
 "cells": [
  {
   "cell_type": "code",
   "execution_count": 1,
   "metadata": {},
   "outputs": [
    {
     "data": {
      "text/plain": [
       "'\\nTO DO:\\n    covariance function\\n        -sqrexp & sqrexpf\\n            -with and without embedding ***\\n    covariance function derivative\\n        -sqrexp & sqrexpf\\n            -with and without embedding\\n    rprop\\n        -not sure how to do this\\n        -maybe take a system for which we know optimal params and see if it gets there\\n    liklihood & gradient & predict\\n        -carefully verify formulas are correct\\n    test priors\\n        -make sure they are applied properly\\n    \\n'"
      ]
     },
     "execution_count": 1,
     "metadata": {},
     "output_type": "execute_result"
    }
   ],
   "source": [
    "\"\"\"\n",
    "TO DO:\n",
    "    covariance function\n",
    "        -sqrexp & sqrexpf\n",
    "            -with and without embedding ***\n",
    "    covariance function derivative\n",
    "        -sqrexp & sqrexpf\n",
    "            -with and without embedding\n",
    "    rprop\n",
    "        -not sure how to do this\n",
    "        -maybe take a system for which we know optimal params and see if it gets there\n",
    "    liklihood & gradient & predict\n",
    "        -carefully verify formulas are correct\n",
    "    test priors\n",
    "        -make sure they are applied properly\n",
    "    \n",
    "\"\"\""
   ]
  },
  {
   "cell_type": "code",
   "execution_count": 1,
   "metadata": {},
   "outputs": [],
   "source": [
    "import numpy as np\n",
    "import KenGP as gp"
   ]
  },
  {
   "cell_type": "code",
   "execution_count": 2,
   "metadata": {},
   "outputs": [
    {
     "name": "stdout",
     "output_type": "stream",
     "text": [
      "Expected\n",
      " [[1 2]\n",
      " [0 3]\n",
      " [0 4]\n",
      " [1 2]] \n",
      " [[1]\n",
      " [2]\n",
      " [3]\n",
      " [4]]\n",
      "Data input success\n",
      "Result\n",
      " [[1 2]\n",
      " [0 3]\n",
      " [0 4]\n",
      " [1 2]] \n",
      " [[1]\n",
      " [2]\n",
      " [3]\n",
      " [4]]\n"
     ]
    }
   ],
   "source": [
    "X = np.array([[1,0,0,1],[2,3,4,2]]).T\n",
    "Y = np.array([[1,2,3,4]]).T\n",
    "print(\"Expected\\n\", X,\"\\n\", Y)\n",
    "gp.setData(X,Y)\n",
    "print(\"Result\\n\", gp.X,\"\\n\", gp.Y)"
   ]
  },
  {
   "cell_type": "code",
   "execution_count": 3,
   "metadata": {},
   "outputs": [
    {
     "name": "stdout",
     "output_type": "stream",
     "text": [
      "Hyperparamaters  [0.1 0.1 0.1]\n",
      "covar( [0 4] , [1 2] )\n",
      "Expected  0.060653\n",
      "Result  0.06065306597126335\n",
      "\n",
      "dCovardHP\n",
      "dCdHP[ 0 ]= -0.3032653298563167\n",
      "dCdHP[ 1 ]= 0.6065306597126334\n",
      "dCdHP[ 2 ]= -0.3032653298563167\n"
     ]
    }
   ],
   "source": [
    "# covar with no embedding\n",
    "print(\"Hyperparamaters \",gp.hp)\n",
    "print(\"covar(\",gp.X[2],\",\",gp.X[3],\")\")\n",
    "print(\"Expected \", 0.060653)\n",
    "print(\"Result \",gp.covar(gp.X[2],gp.X[3],2,3,1))\n",
    "\n",
    "print(\"\\ndCovardHP\")\n",
    "for i in range(0,3):\n",
    "    print(\"dCdHP[\",i,\"]=\",gp.dCovardHp(2,3,i))"
   ]
  },
  {
   "cell_type": "code",
   "execution_count": 4,
   "metadata": {},
   "outputs": [
    {
     "name": "stdout",
     "output_type": "stream",
     "text": [
      "[[1 2]\n",
      " [0 3]\n",
      " [0 4]\n",
      " [1 2]]\n",
      "tmp  (4, 4)\n",
      "r  [1.e-10 1.e+00]\n",
      "Prior dict  {0: 'none', 1: 'none', 2: 'none', 3: 'none', 4: 'none'}\n",
      "New X Dimensions  (2, 4)\n",
      "Expected\n",
      " [[0 4 0 2]\n",
      " [1 2 0 3]]\n",
      "Result\n",
      " [[0. 4. 0. 2.]\n",
      " [1. 2. 0. 3.]]\n",
      "r is calculated correctly.\n"
     ]
    }
   ],
   "source": [
    "# embedding basics\n",
    "gp.setTimeDelayInterval(1)\n",
    "print(gp.X)\n",
    "gp.setTimeDelayEmbedding([1,1])\n",
    "correct = np.array([[0,4,0,2],[1,2,0,3]])\n",
    "print(\"Expected\\n\", correct)\n",
    "print(\"Result\\n\", gp.X)\n",
    "\n",
    "if np.array_equal(gp.r,np.array([10**-10,1])):\n",
    "    print(\"r is calculated correctly.\")\n",
    "else: \n",
    "    print(\"r is not calculated correctly: \",gp.r)"
   ]
  },
  {
   "cell_type": "code",
   "execution_count": 5,
   "metadata": {},
   "outputs": [
    {
     "name": "stdout",
     "output_type": "stream",
     "text": [
      "Hyperparamaters  [0.1 0.1 0.1 0.1 0.1]\n",
      "covar( [0. 4. 0. 2.] , [1. 2. 0. 3.] ) \n",
      "Expected  0.05488\n",
      "Result  0.05488116360940264\n",
      "Hp:  [2, 0.5, 1, 3, 4]\n",
      "\n",
      "Hyperparamaters  [2, 0.5, 1, 3, 4]\n",
      "covar( [0. 4. 0. 2.] , [1. 2. 0. 3.] ) \n",
      "Expected  6.17e-05\n",
      "Result  6.170490204333977e-05\n"
     ]
    }
   ],
   "source": [
    "print(\"Hyperparamaters \",gp.hp)\n",
    "print(\"covar(\",gp.X[0],\",\",gp.X[1],\") \")\n",
    "print(\"Expected \", 0.05488)\n",
    "print(\"Result \", gp.covar(gp.X[0],gp.X[1],0,1,1))\n",
    "\n",
    "gp.setHP([2, 0.5, 1, 3, 4])\n",
    "print(\"\\nHyperparamaters \", gp.hp)\n",
    "print(\"covar(\",gp.X[0],\",\",gp.X[1],\") \")\n",
    "print(\"Expected \", 0.0000617)\n",
    "print(\"Result \", gp.covar(gp.X[0],gp.X[1],0,1,1))"
   ]
  },
  {
   "cell_type": "code",
   "execution_count": 6,
   "metadata": {},
   "outputs": [
    {
     "name": "stdout",
     "output_type": "stream",
     "text": [
      "\n",
      "dCovardHP on  [0. 4. 0. 2.] [1. 2. 0. 3.]\n",
      "Expected =  0.00012340000000000002\n",
      "dCdHP[ 1 ]= 0.00012340980408667953\n",
      "Expected =  -0.0003085\n",
      "dCdHP[ 2 ]= -0.0003085245102166989\n",
      "Expected =  0\n",
      "dCdHP[ 3 ]= -0.0\n",
      "Expected =  6.170000000000001e-05\n",
      "dCdHP[ 4 ]= -6.170490204333977e-05\n"
     ]
    }
   ],
   "source": [
    "print(\"\\ndCovardHP on \",gp.X[0],gp.X[1])\n",
    "expected = [0,1.234*(10**-4),-3.085*(10**-4),0,6.170*(10**-5)]\n",
    "for i in range(1,5):\n",
    "    print(\"Expected = \", expected[i])\n",
    "    print(\"dCdHP[\",i,\"]=\",gp.dCovardHp(0,1,i))"
   ]
  },
  {
   "cell_type": "code",
   "execution_count": 8,
   "metadata": {},
   "outputs": [
    {
     "name": "stdout",
     "output_type": "stream",
     "text": [
      "Prior dict  {0: 'none', 1: 'none', 2: 'none', 3: 'none', 4: 'none', 5: 'none'}\n",
      "Covariance function set to  sqrexpf\n",
      "Prior dict  {0: 'none', 1: 'none', 2: 'none', 3: 'none', 4: 'none', 5: 'none'}\n",
      "Hp:  [0, 0.6, 0.25, 0.5]\n",
      "Expected  0.25733 \n",
      "Actual  0.25732916548821205\n",
      "Hyperparam  1  =  0.42888194248035344  actual  0.4289\n",
      "Hyperparam  2  =  -0.5146583309764241  actual  -0.5147\n",
      "Hyperparam  3  =  -0.12866458274410603  actual  -0.1287\n"
     ]
    }
   ],
   "source": [
    "gp.setCovar(\"sqrexpf\")\n",
    "gp.setTimeDelayEmbedding( [0, 0] )\n",
    "gp.setHP([0,0.6,0.25,0.5])\n",
    "\n",
    "\n",
    "i1, i2 = (1, 3)\n",
    "print(\"Expected \", 0.25733,\"\\nActual \",gp.covar(gp.X[i1], gp.X[i2], i1, i2, abs(i1-i2)))\n",
    "\n",
    "exp = [0.4289,-0.5147,-0.1287]\n",
    "for h in range(1,4):\n",
    "    print(\"Hyperparam \", h, \" = \",gp.dCovardHp(i1,i2,h), \" actual \", exp[h-1])\n"
   ]
  },
  {
   "cell_type": "code",
   "execution_count": null,
   "metadata": {},
   "outputs": [],
   "source": []
  },
  {
   "cell_type": "code",
   "execution_count": null,
   "metadata": {},
   "outputs": [],
   "source": []
  }
 ],
 "metadata": {
  "kernelspec": {
   "display_name": "Python 3",
   "language": "python",
   "name": "python3"
  },
  "language_info": {
   "codemirror_mode": {
    "name": "ipython",
    "version": 3
   },
   "file_extension": ".py",
   "mimetype": "text/x-python",
   "name": "python",
   "nbconvert_exporter": "python",
   "pygments_lexer": "ipython3",
   "version": "3.6.5"
  }
 },
 "nbformat": 4,
 "nbformat_minor": 2
}
