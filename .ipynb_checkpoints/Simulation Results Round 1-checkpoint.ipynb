{
 "cells": [
  {
   "cell_type": "code",
   "execution_count": 187,
   "metadata": {},
   "outputs": [
    {
     "name": "stdout",
     "output_type": "stream",
     "text": [
      "The autoreload extension is already loaded. To reload it, use:\n",
      "  %reload_ext autoreload\n"
     ]
    }
   ],
   "source": [
    "import numpy as np\n",
    "import numpy.linalg as la\n",
    "import numpy.random as rand\n",
    "import pandas as pd\n",
    "import matplotlib as mpl\n",
    "import matplotlib.pyplot as plt\n",
    "import itertools\n",
    "from mpl_toolkits.mplot3d import Axes3D\n",
    "import math\n",
    "# from pydlm import dlm, autoReg, trend, seasonality\n",
    "# from pydlm import modelTuner\n",
    "from statsmodels.tsa.stattools import adfuller\n",
    "from matplotlib import cm\n",
    "from scipy.integrate import odeint\n",
    "from scipy import stats\n",
    "from EDMtoolkit import *\n",
    "from modelSystems import *\n",
    "import datetime\n",
    "\n",
    "plt.rcParams['text.usetex'] = True\n",
    "\n",
    "%load_ext autoreload\n",
    "%autoreload 2\n",
    "%matplotlib notebook"
   ]
  },
  {
   "cell_type": "markdown",
   "metadata": {},
   "source": [
    "# Generate Series from a Linear Model"
   ]
  },
  {
   "cell_type": "code",
   "execution_count": null,
   "metadata": {},
   "outputs": [],
   "source": [
    "def generateLinearSeries(length=200,pro_noise=0.0, obs_noise=0.1, ns=False):\n",
    "    \n",
    "    start = 1/6 # rand.random(1)[0]\n",
    "    if ns:\n",
    "        theta = lambda t: (0.5+t)*np.pi/6\n",
    "    else:\n",
    "        theta = lambda t: np.pi/6\n",
    "    A = lambda theta: np.array([[np.cos(theta),-np.sin(theta)],[np.sin(theta),np.cos(theta)]])\n",
    "    \n",
    "    X = np.zeros((length,2))\n",
    "    X[0] = rand.normal(2)\n",
    "\n",
    "    for i in range(length-1):\n",
    "        t = i / (length-1) if ns else 0\n",
    "        X[i+1] = (A(theta(t)) @ X[i]) + rand.normal(0,pro_noise,2)\n",
    "    \n",
    "    ts = standardize(X[:,0]) + (rand.normal(0,1,T) * obs_noise)\n",
    "    \n",
    "    # return standardize(ts) if ns else standardize(ts)\n",
    "    return standardize(ts + np.linspace(0,2,num=length)) if ns else standardize(ts)"
   ]
  },
  {
   "cell_type": "code",
   "execution_count": null,
   "metadata": {},
   "outputs": [],
   "source": [
    "Xr = generateLinearSeries(ns=True)\n",
    "plotTS(Xr)"
   ]
  },
  {
   "cell_type": "code",
   "execution_count": 190,
   "metadata": {},
   "outputs": [],
   "source": [
    "# Null hypothesis: data are nonstationary, rejected if p<0.5\n",
    "# adfuller(Xr)[1]"
   ]
  },
  {
   "cell_type": "code",
   "execution_count": 196,
   "metadata": {},
   "outputs": [],
   "source": [
    "# General Hyperparameters\n",
    "T = 200\n",
    "o_n = 0.1\n",
    "N_replicates = 100"
   ]
  },
  {
   "cell_type": "code",
   "execution_count": null,
   "metadata": {},
   "outputs": [],
   "source": [
    "# Linear Model\n",
    "E_max = 2\n",
    "\n",
    "# ts_std is the standard deviation of the time series which\n",
    "# is normalized to 1\n",
    "log_std = 1\n",
    "\n",
    "# nonstationarity status, delta, theta, r_sqrd, delta_DLM, r_sqrd_DLM\n",
    "results = np.zeros((N_replicates * 2, 6))\n",
    "results_index = 0\n",
    "\n",
    "for NS in [True, False]:\n",
    "    for i in range(N_replicates):\n",
    "        Xr = generateLinearSeries(length=T, obs_noise=o_n, ns=NS)\n",
    "        Xr += (rand.normal(0,1,T) * log_std * o_n)\n",
    "        \n",
    "        delta_agg, theta_agg, r_sqrd = get_delta_agg(Xr, E_max, return_forecast_skill=True)\n",
    "        delta_agg_DLM, theta_agg_DLM, r_sqrd_DLM = get_delta_agg(Xr, E_max, return_forecast_skill=True, theta_fixed=True)\n",
    "        # dickey_fuller_p = adfuller(Xr)[1]\n",
    "        \n",
    "        results[results_index] = np.array([int(NS), delta_agg, theta_agg, r_sqrd, delta_agg_DLM, r_sqrd_DLM])\n",
    "        results_index += 1\n",
    "        \n",
    "np.savetxt(f\"linear_NSMap_vs_DLM.csv\", results, fmt=\"%0.4f,%0.4f,%0.4f,%0.4f,%0.4f,%0.4f\")"
   ]
  },
  {
   "cell_type": "code",
   "execution_count": 195,
   "metadata": {},
   "outputs": [
    {
     "data": {
      "text/plain": [
       "array([[ 1.        , 10.16400977,  0.        ,  0.95039914,  9.41962065,\n",
       "         0.95030869],\n",
       "       [ 0.        ,  0.        ,  2.141872  ,  0.94873169,  0.        ,\n",
       "         0.94794657]])"
      ]
     },
     "execution_count": 195,
     "metadata": {},
     "output_type": "execute_result"
    }
   ],
   "source": [
    "results"
   ]
  },
  {
   "cell_type": "code",
   "execution_count": 171,
   "metadata": {},
   "outputs": [
    {
     "data": {
      "text/plain": [
       "1.0"
      ]
     },
     "execution_count": 171,
     "metadata": {},
     "output_type": "execute_result"
    }
   ],
   "source": [
    "np.mean(results[results[:,0] == 1,1] > 0.1)"
   ]
  },
  {
   "cell_type": "code",
   "execution_count": 172,
   "metadata": {},
   "outputs": [
    {
     "data": {
      "text/plain": [
       "0.93"
      ]
     },
     "execution_count": 172,
     "metadata": {},
     "output_type": "execute_result"
    }
   ],
   "source": [
    "np.mean(results[results[:,0] == 1,4] > 0.05)"
   ]
  },
  {
   "cell_type": "code",
   "execution_count": 173,
   "metadata": {},
   "outputs": [
    {
     "data": {
      "text/plain": [
       "1.0"
      ]
     },
     "execution_count": 173,
     "metadata": {},
     "output_type": "execute_result"
    }
   ],
   "source": [
    "np.mean(results[results[:,0] == 0,1] <= 0.1)"
   ]
  },
  {
   "cell_type": "code",
   "execution_count": 174,
   "metadata": {},
   "outputs": [
    {
     "data": {
      "text/plain": [
       "0.67"
      ]
     },
     "execution_count": 174,
     "metadata": {},
     "output_type": "execute_result"
    }
   ],
   "source": [
    "np.mean(results[results[:,0] == 0,4] <= 0.05)"
   ]
  },
  {
   "cell_type": "code",
   "execution_count": 185,
   "metadata": {},
   "outputs": [],
   "source": [
    "# Observation Noise versus Nonstationarity Rate\n",
    "r_list = (lambda t: 3.75, lambda t: 3.75 - 0.75 * t / T)\n",
    "E_max = 2\n",
    "N_replicates = 100\n",
    "\n",
    "# log_std is calculated as the standard deviation on a stationary logistic map series with T=200 and r=3.75\n",
    "\n",
    "# nonstationarity status, delta, theta, r_sqrd, dicky_fuller\n",
    "results = np.zeros((N_replicates * len(r_list), 5))\n",
    "results_index = 0\n",
    "\n",
    "for ri, r in enumerate(r_list):\n",
    "    for i in range(N_replicates):\n",
    "        x0 = rand.rand(1)\n",
    "        Xr = generateTimeSeriesDiscrete(\"LogisticP\", x0, tlen=T, nsargs=(r,))\n",
    "        Xr += (rand.normal(0,1,T) * log_std * o_n)[:,None]\n",
    "\n",
    "        delta_agg, theta_agg, r_sqrd = get_delta_agg(Xr, E_max, return_forecast_skill=True)\n",
    "        dickey_fuller_p = adfuller(Xr)[1]\n",
    "        \n",
    "        results[results_index] = np.array([ri, delta_agg, theta_agg, r_sqrd, dickey_fuller_p])\n",
    "        results_index += 1\n",
    "            \n",
    "np.savetxt(f\"logistic_NSMap_vs_Dickey_Fuller.csv\", results, fmt=\"%0.4f,%0.4f,%0.4f,%0.4f,%0.4f\")"
   ]
  },
  {
   "cell_type": "code",
   "execution_count": null,
   "metadata": {},
   "outputs": [],
   "source": []
  },
  {
   "cell_type": "code",
   "execution_count": 184,
   "metadata": {},
   "outputs": [
    {
     "data": {
      "text/plain": [
       "array([False, False, False, False])"
      ]
     },
     "execution_count": 184,
     "metadata": {},
     "output_type": "execute_result"
    }
   ],
   "source": [
    "results[:,4] > 0.05"
   ]
  },
  {
   "cell_type": "markdown",
   "metadata": {},
   "source": [
    "# Mockup of delta vs theta graph"
   ]
  },
  {
   "cell_type": "code",
   "execution_count": 14,
   "metadata": {},
   "outputs": [],
   "source": [
    "# fill with data of results for Hastings Powell and Logistic in Round 2\n",
    "l_data = np.loadtxt(\"logistic_obsnoise_vs_NS_Rate.csv\",delimiter=',')\n",
    "hp_data = np.loadtxt(\"hastings_powell_obsnoise_vs_NS_Rate.csv\",delimiter=',')\n",
    "lin_data = np.loadtxt(\"linear_obsnoise_vs_NS_Rate.csv\",delimiter=',')\n",
    "\n",
    "l_nonstat = np.log(l_data[np.logical_and(l_data[:,0] == 0.1,l_data[:,1] == 2)][:,2:4]+1)\n",
    "l_stat = np.log(l_data[np.logical_and(l_data[:,0] == 0.1,l_data[:,1] == 0)][:,2:4]+1)\n",
    "hp_nonstat = np.log(hp_data[np.logical_and(hp_data[:,0] == 0.1,hp_data[:,1] == 2)][:,2:4]+1)\n",
    "hp_stat = np.log(hp_data[np.logical_and(hp_data[:,0] == 0.1,hp_data[:,1] == 0)][:,2:4]+1)\n",
    "lin_nonstat = np.log(lin_data[lin_data[:,0] == 1][:,1:3]+1)\n",
    "lin_stat = np.log(lin_data[lin_data[:,0] == 0][:,1:3]+1)"
   ]
  },
  {
   "cell_type": "code",
   "execution_count": 15,
   "metadata": {},
   "outputs": [
    {
     "data": {
      "image/png": "[encoded data removed]",
      "text/plain": [
       "<Figure size 576x576 with 1 Axes>"
      ]
     },
     "metadata": {
      "needs_background": "light"
     },
     "output_type": "display_data"
    }
   ],
   "source": [
    "dvt_fig, dvt_ax = plt.subplots(1, figsize=(8,8))\n",
    "dvt_ax.set_xlabel(r\"$\\log(\\theta+1)$\",fontsize=40)\n",
    "dvt_ax.set_ylabel(r\"$\\log(\\delta+1)$\",fontsize=40)\n",
    "#dvt_ax.set_xticks([])\n",
    "#dvt_ax.set_yticks([])\n",
    "\n",
    "\n",
    "dvt_ax.scatter(l_stat[:,1], l_stat[:,0], c=\"dodgerblue\", s=size, edgecolors=\"black\", label=\"Logistic Stationary\")\n",
    "dvt_ax.scatter(l_nonstat[:,1], l_nonstat[:,0], c=\"orange\", s=size, edgecolors=\"black\", label=\"Logistic Nonstationary\")\n",
    "dvt_ax.scatter(hp_stat[:,1], hp_stat[:,0], c=\"dodgerblue\",marker=\"v\", s=size, edgecolors=\"black\", label=\"Hastings Powell Stationary\")\n",
    "dvt_ax.scatter(hp_nonstat[:,1], hp_nonstat[:,0], c=\"orange\",marker=\"v\", s=size, edgecolors=\"black\", label=\"Hastings Powell Nonstationary\")\n",
    "dvt_ax.scatter(lin_stat[:,1], lin_stat[:,0], c=\"dodgerblue\",marker=\">\", s=size, edgecolors=\"black\", label=\"Linear Stationary\")\n",
    "dvt_ax.scatter(lin_nonstat[:,1], lin_nonstat[:,0], c=\"orange\",marker=\">\", s=size, edgecolors=\"black\", label=\"Linear Nonstationary\")\n",
    "\n",
    "plt.legend()\n",
    "plt.show()"
   ]
  },
  {
   "cell_type": "markdown",
   "metadata": {},
   "source": [
    "# Old Code"
   ]
  },
  {
   "cell_type": "code",
   "execution_count": null,
   "metadata": {},
   "outputs": [],
   "source": [
    "def rand_disc(n, minimum=0,maximum=1):\n",
    "    return np.sign(rand.uniform(-1,1,size=n))*rand.uniform(minimum,maximum,size=n)\n",
    "    # return np.exp(rand.uniform(size=n)*np.pi*2j)\n",
    "    # return rand.uniform(minimum,maximum,size=n)*np.exp(rand.uniform(size=n)*np.pi*2j)\n",
    "\n",
    "def calculate_coeff(roots):\n",
    "    \n",
    "    # contains the phi which satisfies (1-phi*z)=0 when z=root\n",
    "    coefs_root_form = -1 / roots\n",
    "    subset_sizes = range(1,len(coefs_root_form)+1)\n",
    "    \n",
    "    # sum all 1 element subsets, then 2 element subsets, ... n element subsets\n",
    "    return np.array([np.sum(np.prod(np.array(list(itertools.combinations(coefs_root_form, subset_size))),axis=1)) for subset_size in subset_sizes])\n",
    "    \n",
    "def eval_poly(coefs, value):\n",
    "    return 1 + np.sum(coefs * (value ** np.arange(1,len(coefs)+1)))"
   ]
  },
  {
   "cell_type": "code",
   "execution_count": null,
   "metadata": {},
   "outputs": [],
   "source": [
    "np.set_printoptions(suppress=True, precision=3)\n",
    "\n",
    "roots = rand_disc(10,2,3)\n",
    "coefs = calculate_coeff(roots)\n",
    "\n",
    "print(np.array(list([eval_poly(coefs,root) for root in roots])))"
   ]
  },
  {
   "cell_type": "code",
   "execution_count": null,
   "metadata": {},
   "outputs": [],
   "source": [
    "tlen = 100\n",
    "X = rand_disc(tlen)\n",
    "l = 6\n",
    "\n",
    "ar_roots = rand_disc(l,np.pi,4)\n",
    "ar_coeffs = -calculate_coeff(ar_roots)\n",
    "\n",
    "for i in range(tlen-l):\n",
    "    X[i+l] = np.sum(ar_coeffs * X[i:i+l])\n",
    "    \n",
    "plotTS(X)\n",
    "ar_roots"
   ]
  }
 ],
 "metadata": {
  "kernelspec": {
   "display_name": "Python 3",
   "language": "python",
   "name": "python3"
  },
  "language_info": {
   "codemirror_mode": {
    "name": "ipython",
    "version": 3
   },
   "file_extension": ".py",
   "mimetype": "text/x-python",
   "name": "python",
   "nbconvert_exporter": "python",
   "pygments_lexer": "ipython3",
   "version": "3.7.3"
  }
 },
 "nbformat": 4,
 "nbformat_minor": 2
}
