{
 "cells": [
  {
   "cell_type": "code",
   "execution_count": 26,
   "metadata": {},
   "outputs": [],
   "source": [
    "import numpy as np\n",
    "import numpy.linalg as la\n",
    "import matplotlib.pyplot as plt"
   ]
  },
  {
   "cell_type": "code",
   "execution_count": 27,
   "metadata": {},
   "outputs": [],
   "source": [
    "def nearestNeighbors(s0, S, n):\n",
    "    orderedNeighbors = np.argsort(la.norm(s0 - S[:-1],axis=1))\n",
    "    return orderedNeighbors[1:n+1]"
   ]
  },
  {
   "cell_type": "code",
   "execution_count": 63,
   "metadata": {},
   "outputs": [
    {
     "name": "stdout",
     "output_type": "stream",
     "text": [
      "[[ 0.   0.   0.   0. ]\n",
      " [ 0.   0.   0.   0.5]\n",
      " [ 5.   0.   0.   0. ]\n",
      " [10.   0.   0.5  0. ]\n",
      " [10.   0.   0.   0. ]]\n"
     ]
    }
   ],
   "source": [
    "# Step 1\n",
    "N = 5\n",
    "r = 4\n",
    "\n",
    "\"\"\"\n",
    "X = np.ones((N, r))\n",
    "for i in range(N):\n",
    "    for j in range(r):\n",
    "        X[i,j] = i + j\n",
    "\"\"\"\n",
    "\"\"\"X = np.array([[0,0,1,1],\n",
    "              [0,0,1,1],\n",
    "              [-0.5,0,1,1],\n",
    "              [0,0,1.2,1],\n",
    "              [0,0,1,1]])\n",
    "\"\"\"\n",
    "X = np.array([[0,0,0,0],\n",
    "              [0,0,0,0.5],\n",
    "              [5,0,0,0],\n",
    "              [10,0,0.5,0],\n",
    "              [10,0,0,0]])\n",
    "print(X)"
   ]
  },
  {
   "cell_type": "code",
   "execution_count": 64,
   "metadata": {},
   "outputs": [],
   "source": [
    "# Step 2: chose parameters(how ??)\n",
    "a = 1    # bias parameter\n",
    "k = 2  # number of neighbors\n",
    "s = 0 # delay"
   ]
  },
  {
   "cell_type": "code",
   "execution_count": 65,
   "metadata": {},
   "outputs": [
    {
     "name": "stdout",
     "output_type": "stream",
     "text": [
      "Embedding Dimensions:  5 4\n",
      "[[ 0.   0.   0.   0. ]\n",
      " [ 0.   0.   0.   0.5]\n",
      " [ 5.   0.   0.   0. ]\n",
      " [10.   0.   0.5  0. ]\n",
      " [10.   0.   0.   0. ]] Works as expected\n"
     ]
    }
   ],
   "source": [
    "# Step 3: Weighted Embedding\n",
    "\n",
    "print(\"Embedding Dimensions: \",N-s, r*(s+1))\n",
    "Xemb = np.zeros((N-s, r*(s+1)))\n",
    "for e in range(s+1):\n",
    "    Xemb[:,e*r:(e+1)*r] = np.exp(-k*e) * X[s-e:N-e,:]\n",
    "    \n",
    "print(Xemb, \"Works as expected\")"
   ]
  },
  {
   "cell_type": "code",
   "execution_count": 66,
   "metadata": {},
   "outputs": [],
   "source": [
    "# Step 4: Generate Gaussian Random variables\n",
    "m = Xemb.shape[1] # TODO: find out where m comes from\n",
    "\n",
    "pi = np.random.normal(0,1,(m, r*(s+1)))"
   ]
  },
  {
   "cell_type": "code",
   "execution_count": 67,
   "metadata": {},
   "outputs": [],
   "source": [
    "# Step 5: orthonormalize w/ QR\n",
    "\n",
    "Q, R = la.qr(pi)\n",
    "pihat = Q # is this a random orthonormal basis?\n",
    "\n",
    "np.set_printoptions(suppress=True)\n",
    "# print(pi, pihat, np.sum(pi))"
   ]
  },
  {
   "cell_type": "code",
   "execution_count": 68,
   "metadata": {},
   "outputs": [],
   "source": [
    "# Step 6: form compressed states\n",
    "compressedStates = np.zeros(Xemb.shape) # corresponds to y_i hat\n",
    "\n",
    "for i in range(Xemb.shape[0]):\n",
    "    # print(pihat.shape, Xemb[i,:,None].shape)\n",
    "    compressedStates[i,:] = (pihat @ Xemb[i,:,None]).T"
   ]
  },
  {
   "cell_type": "code",
   "execution_count": 71,
   "metadata": {},
   "outputs": [
    {
     "name": "stdout",
     "output_type": "stream",
     "text": [
      "[[1 2]\n",
      " [0 2]\n",
      " [0 4]\n",
      " [4 2]\n",
      " [3 2]]\n"
     ]
    }
   ],
   "source": [
    "# Step 7: find those neighbors\n",
    "\n",
    "neighborIndices = np.zeros((Xemb.shape[0],k), dtype=int)\n",
    "\n",
    "for i in range(Xemb.shape[0]):\n",
    "    neighborIndices[i,:] = np.argsort(la.norm(Xemb[i,:] - Xemb,axis=1))[1:k+1]\n",
    "    \n",
    "print(neighborIndices)"
   ]
  },
  {
   "cell_type": "code",
   "execution_count": 72,
   "metadata": {},
   "outputs": [
    {
     "name": "stdout",
     "output_type": "stream",
     "text": [
      "[[0.         0.5        5.         0.         0.        ]\n",
      " [0.5        0.         5.02493781 0.         0.        ]\n",
      " [5.         0.         0.         0.         5.        ]\n",
      " [0.         0.         5.02493781 0.         0.5       ]\n",
      " [0.         0.         5.         0.5        0.        ]]\n"
     ]
    }
   ],
   "source": [
    "# Step 8: \n",
    "\n",
    "neighborMatrix = np.zeros((Xemb.shape[0],Xemb.shape[0]))\n",
    "for point in range(neighborIndices.shape[0]):\n",
    "    for neighborIndex in neighborIndices[point,:]:\n",
    "        neighborMatrix[point, neighborIndex] = la.norm(compressedStates[neighborIndex] - compressedStates[point])\n",
    "        \n",
    "print(neighborMatrix)"
   ]
  },
  {
   "cell_type": "code",
   "execution_count": 76,
   "metadata": {},
   "outputs": [
    {
     "name": "stdout",
     "output_type": "stream",
     "text": [
      "6.409975124224178\n"
     ]
    }
   ],
   "source": [
    "# Step 9: Normalization\n",
    "\n",
    "epsilon = np.sum(neighborMatrix) / Xemb.shape[0]\n",
    "print(epsilon)"
   ]
  },
  {
   "cell_type": "code",
   "execution_count": 79,
   "metadata": {},
   "outputs": [
    {
     "name": "stdout",
     "output_type": "stream",
     "text": [
      "[[-0.          0.96174906  0.02023845 -0.         -0.        ]\n",
      " [ 0.96174906 -0.          0.01946431 -0.         -0.        ]\n",
      " [ 0.02023845 -0.         -0.         -0.          0.02023845]\n",
      " [-0.         -0.          0.01946431 -0.          0.96174906]\n",
      " [-0.         -0.          0.02023845  0.96174906 -0.        ]]\n"
     ]
    }
   ],
   "source": [
    "# Step 10: make sparse matrix\n",
    "dhat = np.exp(-1 * np.power(neighborMatrix,2) / epsilon, where=neighborMatrix != 0)\n",
    "print(dhat)"
   ]
  },
  {
   "cell_type": "code",
   "execution_count": 81,
   "metadata": {},
   "outputs": [
    {
     "name": "stdout",
     "output_type": "stream",
     "text": [
      "[[-0.          0.96174906  0.02023845 -0.         -0.        ]\n",
      " [ 0.96174906 -0.          0.00973215 -0.         -0.        ]\n",
      " [ 0.02023845  0.00973215 -0.          0.00973215  0.02023845]\n",
      " [-0.         -0.          0.00973215 -0.          0.96174906]\n",
      " [-0.         -0.          0.02023845  0.96174906 -0.        ]]\n"
     ]
    }
   ],
   "source": [
    "# Step 11: Make symmetric Matrix\n",
    "\n",
    "J = (dhat + dhat.T) / 2\n",
    "print(J)"
   ]
  },
  {
   "cell_type": "code",
   "execution_count": 89,
   "metadata": {},
   "outputs": [
    {
     "name": "stdout",
     "output_type": "stream",
     "text": [
      "[[0.98198751 0.         0.         0.         0.        ]\n",
      " [0.         0.97148122 0.         0.         0.        ]\n",
      " [0.         0.         0.0599412  0.         0.        ]\n",
      " [0.         0.         0.         0.97148122 0.        ]\n",
      " [0.         0.         0.         0.         0.98198751]]\n"
     ]
    }
   ],
   "source": [
    "# Step 12: form diagonal normalization matrix\n",
    "\n",
    "P = np.diag(np.sum(J,axis=1))\n",
    "print(P)"
   ]
  },
  {
   "cell_type": "code",
   "execution_count": 90,
   "metadata": {},
   "outputs": [
    {
     "name": "stdout",
     "output_type": "stream",
     "text": [
      "[[ 1.01834289  0.          0.          0.          0.        ]\n",
      " [ 0.          1.02935598  0.          0.          0.        ]\n",
      " [ 0.          0.         16.68301521  0.          0.        ]\n",
      " [ 0.          0.          0.          1.02935598  0.        ]\n",
      " [ 0.          0.          0.          0.          1.01834289]]\n",
      "[[0.         1.00814128 0.34383159 0.         0.        ]\n",
      " [1.00814128 0.         0.16712796 0.         0.        ]\n",
      " [0.34383159 0.16712796 0.         0.16712796 0.34383159]\n",
      " [0.         0.         0.16712796 0.         1.00814128]\n",
      " [0.         0.         0.34383159 1.00814128 0.        ]]\n"
     ]
    }
   ],
   "source": [
    "# Step 13: Normalize and form kernel matrix\n",
    "# print(np.power(P, -a, where= P != 0))\n",
    "K = np.power(P, -a, where= P != 0) @ J @ np.power(P,-a, where= P != 0)\n",
    "print(K)"
   ]
  },
  {
   "cell_type": "code",
   "execution_count": 91,
   "metadata": {},
   "outputs": [
    {
     "name": "stdout",
     "output_type": "stream",
     "text": [
      "[[1.35197287 0.         0.         0.         0.        ]\n",
      " [0.         1.17526924 0.         0.         0.        ]\n",
      " [0.         0.         1.0219191  0.         0.        ]\n",
      " [0.         0.         0.         1.17526924 0.        ]\n",
      " [0.         0.         0.         0.         1.35197287]]\n"
     ]
    }
   ],
   "source": [
    "# Step 14: \n",
    "\n",
    "Q = np.diag(np.sum(K,axis=1))\n",
    "print(Q)\n"
   ]
  },
  {
   "cell_type": "code",
   "execution_count": 93,
   "metadata": {},
   "outputs": [
    {
     "name": "stdout",
     "output_type": "stream",
     "text": [
      "[[1.33762487 1.39757319 0.43985628 0.01092966 0.01457412]\n",
      " [1.39757319 1.42642807 0.43498022 0.00739732 0.01092966]\n",
      " [0.43985628 0.43498022 0.02991438 0.43498022 0.43985628]\n",
      " [0.01092966 0.00739732 0.43498022 1.42642807 1.39757319]\n",
      " [0.01457412 0.01092966 0.43985628 1.39757319 1.33762487]]\n"
     ]
    }
   ],
   "source": [
    "# Step 15: Form symmetric Matrix\n",
    "\n",
    "\"\"\" NOTE: pronounced T-hat \"\"\" \n",
    "That = np.power(Q, -0.5, where= Q != 0) @ K @ np.power(Q,-0.5, where= Q != 0)\n",
    "print(That)"
   ]
  },
  {
   "cell_type": "code",
   "execution_count": 98,
   "metadata": {},
   "outputs": [
    {
     "name": "stdout",
     "output_type": "stream",
     "text": [
      "[-0.22435262 -0.01643297 -0.01472534  2.75851447  3.05501672] \n",
      " [[-0.17726777  0.50857351  0.49374633  0.4912769  -0.47412098]\n",
      " [-0.10061292 -0.4912769  -0.50323516  0.50857351 -0.48644775]\n",
      " [ 0.95755227  0.          0.07705762 -0.         -0.27776927]\n",
      " [-0.10061292  0.4912769  -0.50323516 -0.50857351 -0.48644775]\n",
      " [-0.17726777 -0.50857351  0.49374633 -0.4912769  -0.47412098]]\n"
     ]
    }
   ],
   "source": [
    "# Step 16: Eigenvectors and values\n",
    "\n",
    "eigenVals, eigenVecs = la.eigh(That)\n",
    "\n",
    "print(eigenVals,\"\\n\", eigenVecs)"
   ]
  },
  {
   "cell_type": "code",
   "execution_count": 100,
   "metadata": {},
   "outputs": [
    {
     "name": "stdout",
     "output_type": "stream",
     "text": [
      "[       nan        nan        nan 1.17151636 1.19032469]\n"
     ]
    },
    {
     "name": "stderr",
     "output_type": "stream",
     "text": [
      "C:\\Users\\Kenneth\\AppData\\Roaming\\Python\\Python36\\site-packages\\ipykernel_launcher.py:3: RuntimeWarning: invalid value encountered in power\n",
      "  This is separate from the ipykernel package so we can avoid doing imports until\n"
     ]
    }
   ],
   "source": [
    "# Step 17: find T hat ^1/e eigenvalues\n",
    "\n",
    "eigenValsT = np.power(eigenVals, 1/(epsilon))\n",
    "print(eigenValsT)"
   ]
  },
  {
   "cell_type": "code",
   "execution_count": null,
   "metadata": {},
   "outputs": [],
   "source": []
  }
 ],
 "metadata": {
  "kernelspec": {
   "display_name": "Python 3",
   "language": "python",
   "name": "python3"
  },
  "language_info": {
   "codemirror_mode": {
    "name": "ipython",
    "version": 3
   },
   "file_extension": ".py",
   "mimetype": "text/x-python",
   "name": "python",
   "nbconvert_exporter": "python",
   "pygments_lexer": "ipython3",
   "version": "3.6.5"
  }
 },
 "nbformat": 4,
 "nbformat_minor": 2
}
