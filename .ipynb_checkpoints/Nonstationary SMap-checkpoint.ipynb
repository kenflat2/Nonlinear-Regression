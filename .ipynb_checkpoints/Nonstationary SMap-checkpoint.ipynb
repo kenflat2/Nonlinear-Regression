{
 "cells": [
  {
   "cell_type": "code",
   "execution_count": 145,
   "metadata": {},
   "outputs": [],
   "source": [
    "import numpy as np\n",
    "import numpy.linalg as la\n",
    "import numpy.random as rand\n",
    "import pandas as pd\n",
    "import matplotlib.pyplot as plt\n",
    "from mpl_toolkits.mplot3d import Axes3D\n",
    "import math\n",
    "# import timeit\n",
    "from scipy.integrate import odeint\n",
    "from scipy import stats\n",
    "from matplotlib.ticker import FormatStrFormatter\n",
    "import modelSystems as ms\n",
    "\n",
    "%matplotlib notebook"
   ]
  },
  {
   "cell_type": "code",
   "execution_count": null,
   "metadata": {},
   "outputs": [],
   "source": []
  },
  {
   "cell_type": "code",
   "execution_count": 151,
   "metadata": {},
   "outputs": [
    {
     "ename": "NameError",
     "evalue": "name 'test' is not defined",
     "output_type": "error",
     "traceback": [
      "\u001b[1;31m---------------------------------------------------------------------------\u001b[0m",
      "\u001b[1;31mNameError\u001b[0m                                 Traceback (most recent call last)",
      "\u001b[1;32m<ipython-input-151-399b2315d94b>\u001b[0m in \u001b[0;36m<module>\u001b[1;34m\u001b[0m\n\u001b[0;32m      1\u001b[0m \u001b[1;31m# Xr = ms.generateTimeSeriesContinuous(\"Lorenz\", np.array([1,5,17]))\u001b[0m\u001b[1;33m\u001b[0m\u001b[1;33m\u001b[0m\u001b[1;33m\u001b[0m\u001b[0m\n\u001b[1;32m----> 2\u001b[1;33m \u001b[0mtest\u001b[0m\u001b[1;33m(\u001b[0m\u001b[1;34m\"Lorenz\"\u001b[0m\u001b[1;33m)\u001b[0m\u001b[1;33m\u001b[0m\u001b[1;33m\u001b[0m\u001b[0m\n\u001b[0m",
      "\u001b[1;31mNameError\u001b[0m: name 'test' is not defined"
     ]
    }
   ],
   "source": [
    "# Xr = ms.generateTimeSeriesContinuous(\"Lorenz\", np.array([1,5,17]))\n",
    "ms.test(\"Lorenz\")"
   ]
  },
  {
   "cell_type": "code",
   "execution_count": 123,
   "metadata": {},
   "outputs": [],
   "source": [
    "def standardize(x):\n",
    "    return (x - np.mean(x, axis=0)) / np.std(x, axis=0)\n",
    "\n",
    "def nearestNeighbors(s0, S, n):\n",
    "    orderedNeighbors = np.argsort(la.norm(s0 - S[:-1],axis=1))\n",
    "    return orderedNeighbors[1:n+1]\n",
    "\n",
    "\"\"\"\n",
    "def delayEmbed(Xin, Yin,assignment,embInterval):\n",
    "    tmplen = Xin.shape[1]\n",
    "\n",
    "    tmp = np.zeros([sum(x) for x in zip(Xin.shape,(0,sum(assignment)))])\n",
    "    tmp[:,:Xin.shape[1]] = Xin\n",
    "    Xin = tmp\n",
    "\n",
    "    lag = 1\n",
    "    newColInd = 0\n",
    "    if len(assignment) != tmplen:\n",
    "        print(\"Assigment list doesn't match the number of variables in data array! \",assignment)\n",
    "        return\n",
    "    else:\n",
    "        # code that creates the lags\n",
    "        for i in range(len(assignment)):\n",
    "            lag = 1\n",
    "            for _ in range(assignment[i]):\n",
    "                newCol = Xin[:-embInterval*lag,i]\n",
    "                Xin[embInterval*lag:, tmplen + newColInd] = newCol\n",
    "                newColInd += 1\n",
    "                lag += 1\n",
    "    Xin = Xin[embInterval*sum(assignment):]\n",
    "    Yin = Yin[embInterval*sum(assignment):]\n",
    "    \n",
    "    return (Xin, Yin)\n",
    "\"\"\"\n",
    "\n",
    "def delayEmbed(D, predHorizon, nLags, embInterval, t = None):\n",
    "    \n",
    "    totalRows = D.shape[0] + predHorizon + embInterval * nLags\n",
    "    A = np.zeros((totalRows, 2 + nLags))\n",
    "    \n",
    "    A[:D.shape[0],0] = D.flatten()\n",
    "    \n",
    "    for i in range(1, 2 + nLags):\n",
    "        lower = predHorizon + (i - 1) * embInterval\n",
    "        upper = lower + D.shape[0]\n",
    "        A[lower:upper, i] = D.flatten()\n",
    "    \n",
    "    rowsLost = predHorizon + nLags * embInterval\n",
    "    if rowsLost != 0:\n",
    "        B = A[rowsLost : -rowsLost]\n",
    "    else: \n",
    "        B = A\n",
    "    \n",
    "    if t is None:\n",
    "        return (B[:,1:], B[:,0, None])\n",
    "    else:\n",
    "        ty = t[predHorizon : predHorizon - rowsLost]\n",
    "        tx = t[:-rowsLost]\n",
    "        return (B[:,1:], B[:,0, None], tx, ty)\n",
    "\n",
    "# Lyapunov Edition\n",
    "def lyapunovExp(S):\n",
    "    Lexp = 0\n",
    "    n = S.shape[0]-1\n",
    "    for i in range(n):\n",
    "        nearNeighborsIndices = nearestNeighbors(S[i], S, 1)\n",
    "        for nni in nearNeighborsIndices:\n",
    "            fprime = la.norm(S[i+1] - S[nni+1]) / la.norm(S[i] - S[nni])\n",
    "            Lexp += np.log(fprime) # / la.norm(S[i] - S[nni])\n",
    "    return Lexp / n # geometric mean - seems like lyapunov right?\n",
    "\n",
    "def FNNplot(Xr, l, st):\n",
    "    dim = Xr.shape[1]\n",
    "    # figFNN, axFNN = plt.subplots(2 * c,figsize=(16, 3*(2*c)))\n",
    "    figFNN, axFNN = plt.subplots(dim, figsize=(6, 3*dim))\n",
    "    # figFNN = plt.figure(figsize=(12, 8))\n",
    "    # axFNN = figFNN.add_subplot()\n",
    "\n",
    "    for d in range(dim):\n",
    "        lyapExps = np.zeros(l+1)\n",
    "        for s in range(1, st+1, 1):\n",
    "            for i in range(l+1):\n",
    "                Y, _ = delayEmbed(Xr[:,d,None], 0, i, s) # individual axis version\n",
    "                # Y, _ = delayEmbed(Xr[::c], Xr[::c], [i]*dim,s)\n",
    "                # Y, _ = delayEmbedUnitary(Xr[::c], Xr[::c], i,s)\n",
    "                lyapExps[i] = lyapunovExp(Y)\n",
    "\n",
    "            if dim == 1:\n",
    "                axFNN.plot(range(l+1), lyapExps, label=\"{e}\".format(e=s))\n",
    "            else:\n",
    "                axFNN[d].plot(range(l+1), lyapExps, label=\"{e}\".format(e=s))\n",
    "\n",
    "        if dim == 1:\n",
    "            axFNN.legend()\n",
    "            axFNN.set_xlabel(\"Embedding Dimension\")\n",
    "            # axFNN[c-1].set_title(\"Slice = {ind}\".format(ind=c))\n",
    "            axFNN.set_ylabel(\"Lyapunov Exponent\")\n",
    "        else:\n",
    "            axFNN[d].legend()\n",
    "            axFNN[d].set_xlabel(\"Embedding Dimension\")\n",
    "            # axFNN[c-1].set_title(\"Slice = {ind}\".format(ind=c))\n",
    "            axFNN[d].set_ylabel(\"Lyapunov Exponent\")\n",
    "\n",
    "    plt.show()"
   ]
  },
  {
   "cell_type": "code",
   "execution_count": 124,
   "metadata": {},
   "outputs": [],
   "source": [
    "def GMapOptimize(X, Y, tx, thetaVals, deltaVals, calc_hat=False):\n",
    "    predictedTimeSeries = np.zeros((nTrials, 1))\n",
    "    trueTimeSeries = np.zeros(nTrials)\n",
    "\n",
    "    errThetaDelta = np.ones((thetaVals.shape[0], deltaVals.shape[0]))\n",
    "\n",
    "    lowestError = float('inf')\n",
    "\n",
    "    thetaBest = 0\n",
    "    deltaBest = 0\n",
    "    lowestError = float('inf')\n",
    "    lowestVariance = 0\n",
    "    for deltaexp in range(deltaVals.shape[0]):\n",
    "        for thetaexp in range(thetaVals.shape[0]):\n",
    "            theta = thetaVals[thetaexp]\n",
    "            delta = deltaVals[deltaexp]\n",
    "            \n",
    "            # timestepPredictions = predictionHorizon(X, Y, t, theta, delta, predHorizon, nTrials)\n",
    "            if calc_hat:\n",
    "                timestepPredictions, hat = leaveOneOut(X, Y, tx, theta, delta, True)\n",
    "            else:\n",
    "                timestepPredictions = leaveOneOut(X, Y, tx, theta, delta)\n",
    "            \n",
    "            totalError = np.sum((timestepPredictions - Y)**2)\n",
    "            if totalError < lowestError:\n",
    "                lowestError = totalError\n",
    "                deltaBest = delta\n",
    "                thetaBest = theta\n",
    "                lowestVariance = np.var(timestepPredictions)\n",
    "            \n",
    "            errThetaDelta[thetaexp, deltaexp] = totalError\n",
    "            # print(f\"Theta = {theta} Delta = {delta} Error = {errThetaDeltaGMap[thetaexp, deltaexp]}\")\n",
    "    \n",
    "    if (calc_hat):\n",
    "        return (thetaBest, deltaBest, errThetaDelta, hat)\n",
    "    else:\n",
    "        return (thetaBest, deltaBest, errThetaDelta)\n",
    "\n",
    "# The training set is all before the training set\n",
    "def predictionHorizon(X, Y, t, theta, delta, predHorizon, nTrials):\n",
    "    \n",
    "    timestepPredictions = np.zeros((nTrials, 1))\n",
    "    \n",
    "    for i in range(nTrials):\n",
    "        # j is prediction stepsize\n",
    "        # Xj and Yj are X and Y with j step prediction\n",
    "        Xj = X[:-predHorizon]\n",
    "        Yj = Y[predHorizon:]\n",
    "        tXj = t[:-predHorizon]\n",
    "        tYj = t[predHorizon:]\n",
    "\n",
    "        # this is the cutoff between training and testing data\n",
    "        startIndex = Xj.shape[0] - i - predHorizon\n",
    "\n",
    "        # create the train and test stuff\n",
    "        Xjtr = Xj[:startIndex]\n",
    "        Yjtr = Yj[:startIndex]\n",
    "        tXjtr = tXj[:startIndex]\n",
    "        tYjtr = tYj[:startIndex]\n",
    "\n",
    "        Xjts = Xj[startIndex]\n",
    "        Yjts = Yj[startIndex]\n",
    "        tXjts = tYj[startIndex]\n",
    "        tYjts = tYj[startIndex]\n",
    "\n",
    "        prediction = GMap(Xjtr, Yjtr, tXjtr, Xjts, tXjts, theta, delta)\n",
    "\n",
    "        # predictedTimeSeries[i] = prediction\n",
    "        # trueTimeSeries[i] = Yjts\n",
    "\n",
    "        # timestepPredictionsGMap[i,j-1] = abs(predictionGMap - Yjts)\n",
    "        # timestepPredictionsSMap[i,j-1] = abs(predictionSMap - Yjts)\n",
    "\n",
    "        timestepPredictions[i] = (prediction - Yjts)\n",
    "            \n",
    "    return timestepPredictions\n",
    "\n",
    "# leaves one input and output pair out, and use rest as training data\n",
    "def leaveOneOut(X, Y, tx, theta, delta, get_hat=False):\n",
    "    \n",
    "    if get_hat:\n",
    "        hat = np.zeros((X.shape[0]-1, X.shape[0]-1))\n",
    "    timestepPredictions = np.zeros((X.shape[0], 1))\n",
    "    \n",
    "    for i in range(0, X.shape[0]):\n",
    "        # create the train and test stuff\n",
    "        \n",
    "        Xjts = X[i].copy()\n",
    "        Yjts = Y[i].copy()\n",
    "        tXjts = tx[i].copy()\n",
    "        \n",
    "        Xjtr = np.delete(X, i, axis=0)\n",
    "        Yjtr = np.delete(Y, i, axis=0)\n",
    "        tXjtr = np.delete(tx, i, axis=0)\n",
    "        \n",
    "        if get_hat:\n",
    "            prediction, hat_vector = GMap(X, Y, tx, Xjts, tXjts, theta, delta, return_hat=True)\n",
    "            if i < X.shape[0]-1:\n",
    "                hat[i,:] = hat_vector\n",
    "        else:\n",
    "            # GMap(X, Y, T, x, t, theta, delta, return_hat=False)\n",
    "            prediction = GMap(X, Y, tx, Xjts, tXjts, theta, delta, return_hat=False)\n",
    "            \n",
    "        timestepPredictions[i] = prediction\n",
    "            \n",
    "    if get_hat:\n",
    "        return (timestepPredictions, hat)\n",
    "    else:\n",
    "        return timestepPredictions\n",
    "\n",
    "def GMapMinError(X, t, predHorizon, thetaVals, deltaVals, nTrials):\n",
    "    # X, te = delayEmbed(Xr, t, [embdim],1)\n",
    "    Y = X[:,0]\n",
    "\n",
    "    timestepPredictions = np.zeros((nTrials, 1))\n",
    "\n",
    "    predictedTimeSeries = np.zeros((nTrials, 1))\n",
    "    trueTimeSeries = np.zeros(nTrials)\n",
    "\n",
    "    errThetaDelta = np.ones((thetaVals.shape[0], deltaVals.shape[0]))\n",
    "\n",
    "    lowestError = float('inf')\n",
    "\n",
    "    thetaBest = 0\n",
    "    deltaBest = 0\n",
    "    lowestError = float('inf')\n",
    "    lowestVariance = 0\n",
    "    for deltaexp in range(deltaVals.shape[0]):\n",
    "        for thetaexp in range(thetaVals.shape[0]):\n",
    "            theta = thetaVals[thetaexp]\n",
    "            delta = deltaVals[deltaexp]\n",
    "            for i in range(nTrials):\n",
    "                # j is prediction stepsize\n",
    "                # Xj and Yj are X and Y with j step prediction\n",
    "                Xj = X[:-predHorizon]\n",
    "                Yj = Y[predHorizon:]\n",
    "                tXj = t[:-predHorizon]\n",
    "                tYj = t[predHorizon:]\n",
    "\n",
    "                # this is the cutoff between training and testing data\n",
    "                startIndex = Xj.shape[0] - i - predHorizon\n",
    "\n",
    "                # create the train and test stuff\n",
    "                Xjtr = Xj[:startIndex]\n",
    "                Yjtr = Yj[:startIndex]\n",
    "                tXjtr = tXj[:startIndex]\n",
    "                tYjtr = tYj[:startIndex]\n",
    "\n",
    "                Xjts = Xj[startIndex]\n",
    "                Yjts = Yj[startIndex]\n",
    "                tXjts = tYj[startIndex]\n",
    "                tYjts = tYj[startIndex]\n",
    "                \n",
    "                # print(Xjtr.shape, Yjtr.shape, tXjtr.shape, Xjts.shape, tXjts.shape)\n",
    "                prediction = GMap(Xjtr, Yjtr, tXjtr, Xjts, tXjts, theta, delta)\n",
    "\n",
    "                predictedTimeSeries[i] = prediction\n",
    "                trueTimeSeries[i] = Yjts\n",
    "\n",
    "                # timestepPredictionsGMap[i,j-1] = abs(predictionGMap - Yjts)\n",
    "                # timestepPredictionsSMap[i,j-1] = abs(predictionSMap - Yjts)\n",
    "\n",
    "                timestepPredictions[i] = abs(prediction - Yjts)\n",
    "\n",
    "            totalError = np.sum(timestepPredictions**2)\n",
    "            if totalError < lowestError:\n",
    "                lowestError = totalError\n",
    "                deltaBest = delta\n",
    "                thetaBest = theta\n",
    "                lowestVariance = np.var(timestepPredictions)\n",
    "            errThetaDelta[thetaexp, deltaexp] = totalError\n",
    "            # print(f\"Theta = {theta} Delta = {delta} Error = {errThetaDeltaGMap[thetaexp, deltaexp]}\")\n",
    "    \n",
    "    return (lowestError, lowestVariance)"
   ]
  },
  {
   "cell_type": "code",
   "execution_count": 125,
   "metadata": {},
   "outputs": [],
   "source": [
    "# SMap\n",
    "\"\"\"\n",
    "def nearestNeighbors(state, n):\n",
    "    orderedNeighbors = sorted(range(len(trainStates)-1), key = lambda i : la.norm(state - trainStates[i]), reverse=False)\n",
    "    return orderedNeighbors[:n]\n",
    "\"\"\"\n",
    "def nearestNeighbors(s0, S, n):\n",
    "    orderedNeighbors = np.argsort(la.norm(s0 - S[:-1],axis=1))\n",
    "    return orderedNeighbors[1:n+1]\n",
    "\n",
    "def nearestNeighborsPrediction(state):\n",
    "    neighborIndexes = nearestNeighbors(state, numNeighbors)\n",
    "    pred1neigh = list(map(lambda i: trainStates[i+1], neighborIndexes))\n",
    "    return sum(pred1neigh) / numNeighbors\n",
    "\n",
    "# make a 1 time step prediction based on a given state(nD vector)\n",
    "def SMap(X, Y, x, theta):\n",
    "    norms = la.norm(X-x,axis=1)\n",
    "    d = np.mean(norms) # d = np.mean(norms) # \n",
    "    \n",
    "    W = np.exp(-1 * theta * norms / d)\n",
    "    # print(X.shape, np.diag(W).shape, Y.shape)\n",
    "    H = la.inv(np.transpose(X) @ np.diag(W) @ X) @ np.transpose(X) @ np.diag(W) @ Y\n",
    "    return x @ H\n",
    "\n",
    "def timescaleInfo(X, Y, x, theta):\n",
    "    norms = la.norm(X-x,axis=1)\n",
    "    d = np.mean(norms) # d = np.mean(norms) # \n",
    "    \n",
    "    W = np.exp(-1 * theta * norms / d)\n",
    "    # print(X.shape, np.diag(W).shape, Y.shape)\n",
    "    H = la.inv(np.transpose(X) @ np.diag(W) @ X) @ np.transpose(X) @ np.diag(W) @ Y\n",
    "    \n",
    "    return la.svd(H)\n",
    "\n",
    "def getWeightedValues(state, states, theta, d):\n",
    "    # calculate weights for each element\n",
    "    return np.exp(-1 * theta * la.norm(states-state,axis=1) / d)\n",
    "    \"\"\"\n",
    "    weights = np.zeros(states.shape[0])\n",
    "    current = np.array(state)\n",
    "    for i, elem in enumerate(states):\n",
    "        diff = current - elem\n",
    "        norm = la.norm(diff)\n",
    "        exponent = -1 * theta * norm / d\n",
    "        weights[i] = np.exp(exponent)\n",
    "    return weights\n",
    "    \"\"\"\n",
    "\n",
    "def isInvertible(M):\n",
    "    return M.shape[0] == M.shape[1] and la.matrix_rank(M) == M.shape[0]\n",
    "    \n",
    "def calculateD(states):\n",
    "    return np.mean(np.fromfunction(lambda i,j: la.norm(states[i]-states[j]),(states.shape[1],states.shape[1]),dtype=int))\n",
    "\n",
    "def getHat(X, W, x):\n",
    "    if (isInvertible(X)):\n",
    "        hat = xaug @ la.inv((W@X).T @ (W@X)) @ (W@X).T @ W\n",
    "        # params = la.inv((W@M).T @ (W@M)) @ (W@M).T @ (W@Y)\n",
    "    else:\n",
    "        # print(\"not invertible\")\n",
    "        hat = x @ la.pinv((W@X).T @ (W@X)) @ (W@X).T @ W\n",
    "        # U, E, V = la.svd(W @ M, full_matrices=False)\n",
    "        # hat = xaug @ V.T @ np.diag(np.power(E,-1,where=(E!=0))) @ U.T @ W\n",
    "        # hat = xaug @ V.T @ np.diag(1/(E+1e-10)) @ U.T @ W\n",
    "        # params = V.T @ np.diag(1/(E+1e-10)) @ (U.T @ W @ Y)[:E.shape[0]]\n",
    "    # prediction = xaug @ params\n",
    "    # return x @ la.pinv((W@M).T) @ Y\n",
    "    return hat\n",
    "    \n",
    "def GMap(X, Y, T, x, t, theta, delta, return_hat=False):\n",
    "    # create weights\n",
    "    norms = la.norm(X - x,axis=1)\n",
    "    d = np.mean(norms)\n",
    "    \n",
    "    tr = t / np.ptp(T)\n",
    "    Tr = T / np.ptp(T)\n",
    "    \n",
    "    weights = np.exp(-1*theta*norms/d - delta*abs(Tr-tr))\n",
    "    # W = np.diag(np.sqrt(weights))\n",
    "    W = np.diag(weights)\n",
    "    # weights = np.reshape(weights,(weights.shape[0],1))\n",
    "    \n",
    "    Tr = Tr.reshape((T.shape[0],1))\n",
    "    \n",
    "    if (delta > 0):\n",
    "        M = np.hstack([np.ones(Tr.shape), X, Tr])\n",
    "        xaug = np.hstack([1, x, tr])\n",
    "    else:\n",
    "        M = np.hstack([np.ones(Tr.shape), X])\n",
    "        xaug = np.hstack([1, x])\n",
    "    xaug = np.reshape(xaug, (1,xaug.shape[0]))\n",
    "    \n",
    "    # hat = xaug @ la.pinv((W@M).T @ (W@M)) @ (W@M).T @ W\n",
    "    # hat = xaug @ la.pinv((W@M).T) @ Y\n",
    "    hat = getHat(M, W, xaug)\n",
    "    prediction = hat @ Y\n",
    "    \n",
    "    if return_hat:\n",
    "        return (prediction, hat)\n",
    "    else:\n",
    "        return prediction\n",
    "    "
   ]
  },
  {
   "cell_type": "code",
   "execution_count": 126,
   "metadata": {},
   "outputs": [
    {
     "name": "stdout",
     "output_type": "stream",
     "text": [
      "(array([[3., 2., 1.],\n",
      "       [4., 3., 2.],\n",
      "       [5., 4., 3.],\n",
      "       [6., 5., 4.]]), array([[5.],\n",
      "       [6.],\n",
      "       [7.],\n",
      "       [8.]]), array([1, 2, 3, 4]), array([3, 4, 5, 6]))\n"
     ]
    }
   ],
   "source": [
    "Test = np.array([1,2,3,4,5,6,7,8])\n",
    "TestT = Test\n",
    "# prediction stepsize, n Lags, interval\n",
    "print(delayEmbed(Test, 2, 2, 1, t=TestT))"
   ]
  },
  {
   "cell_type": "code",
   "execution_count": 127,
   "metadata": {},
   "outputs": [],
   "source": [
    "settlingTime = 0\n",
    "\n",
    "tlen = 2 ** 8 + settlingTime\n",
    "end = 2 ** 7 # (3.498901098901099 / (12*reduction)) * tlen # 2**3\n",
    "reduction = 2 ** 0\n",
    "trainToTest = 0.80 # between 0 and 1\n",
    "\n",
    "tr = np.linspace(0, end, num=tlen)\n",
    "t = tr[settlingTime::reduction]\n",
    "\n",
    "# MAKE SURE TO UPDATE THE DIMENSION WHEN SWITCHING ATTRACTORS\n",
    "dim = 1\n",
    "ndrivers = 1\n",
    "# t0 = np.array([0.34])\n",
    "# t0 = np.ones(3) * 3# np.array([0,5,15])# np.ones(dim) * 0.3333 # np.array([0,5,15]) * 1 # np.zeros(dim)\n",
    "# t0 = np.array([0.8,0.1,9])\n",
    "# t0 = np.ones(5)\n",
    "# t0[0] += 0.1\n",
    "t0 = np.array([0,5,15])"
   ]
  },
  {
   "cell_type": "code",
   "execution_count": null,
   "metadata": {},
   "outputs": [],
   "source": []
  },
  {
   "cell_type": "code",
   "execution_count": 60,
   "metadata": {},
   "outputs": [
    {
     "data": {
      "text/plain": [
       "'\\n# Logistic Map\\nr = lambda t: 3 + np.sin(np.pi * t / tlen)\\n# r = lambda t: 4 #  + 0.5 * t / tlen\\nXr = np.zeros((tlen,1))\\nXr[0,0] = t0\\nfor i in range(1,tlen):\\n    Xr[i,0] = r(i) * Xr[i-1,0] * (1 - Xr[i-1,0])\\n\\nXr = Xr[settlingTime:]\\n'"
      ]
     },
     "execution_count": 60,
     "metadata": {},
     "output_type": "execute_result"
    }
   ],
   "source": [
    "# Density Dependent Maturation\n",
    "\"\"\"\n",
    "states = np.ones((tlen, 2))\n",
    "s = 0.02\n",
    "gamma = 0.01\n",
    "sA = 0.1\n",
    "sJ = 0.5\n",
    "b = 35\n",
    "# Gmax = 0.9\n",
    "# g = lambda x : Gmax*np.exp(-gamma*x)\n",
    "Gmax = lambda t : 0.75 # + t * 0.24 / (tlen-2)\n",
    "g = lambda x , t: Gmax(t)*np.exp(-gamma*x)\n",
    "states[0] = np.array([5,300])\n",
    "for i in range(0,tlen-1):\n",
    "    At = states[i,0]\n",
    "    Jt = states[i,1]\n",
    "    zt = rand.normal(-s/2, s) # rand.normal(0,s) # vs rand.normal(-(s**2)/2, s)\n",
    "    # m = np.array([[sA, sJ*g(At+Jt)],[b*np.exp(zt), sJ*(1-g(At+Jt))]])\n",
    "    m = np.array([[sA, sJ*g(At+Jt,i)],[b*np.exp(zt), sJ*(1-g(At+Jt,i))]])\n",
    "    states[i+1] = m @ states[i].T\n",
    "\n",
    "Xr = standardize(states[settlingTime:,:,None])\n",
    "print(Xr.shape)\n",
    "\"\"\"\n",
    "\n",
    "# Monotonic Trend\n",
    "Xr = (np.linspace(0,8,num=tlen) + np.cos(np.linspace(0,80,num=tlen))).reshape((tlen,1))\n",
    "\n",
    "\"\"\"\n",
    "# Rosenzweig MacArthur\n",
    "h2 = lambda t : 2.0 - 1.0 * t / end\n",
    "\n",
    "Xr = standardize(odeint(RosenzweigMacArthurP, t0, tr, args=(h2,)))[::reduction,0,None]\n",
    "# Xr = standardize(odeint(RosenzweigMacArthur, t0, t, args=(h2,)))[::reduction,:]\n",
    "\"\"\"\n",
    "\n",
    "# period of Lorenz at beta=0.5 is about 3.5\n",
    "\"\"\"\n",
    "rho = lambda t: 28 # + 16 * t / end # rho = 28.0\n",
    "sigma = lambda t: 10 # + 8 * t / end # sigma = 10.0\n",
    "beta = lambda t: 3.5 # + 3 * np.sin(np.pi * t / end)# 3 * t / end # beta = 8.0 / 3.0\n",
    "\n",
    "states = odeint(LorenzP, t0, tr, args=(rho, sigma, beta))\n",
    "Xr = standardize(states)[::reduction, 0, None]\n",
    "print(Xr.shape, t.shape)\n",
    "\"\"\"\n",
    "\"\"\"\n",
    "gstates = standardize(odeint(RosenzweigMacArthur, np.array([0.8,0.1,9]), t*2))[:,1,None]\n",
    "figG, axG = plt.subplots(1)\n",
    "axG.plot(gstates)\n",
    "plt.show()\n",
    "\"\"\"\n",
    "\n",
    "\"\"\"\n",
    "# Lorenz 96\n",
    "F = lambda t : 7 + (2 ** 5) * t / end\n",
    "# F = lambda t : 12 # + 5 * np.sin(2 * np.pi * t / end)\n",
    "# F = lambda t : 7 + 4 * gstates[np.array((tlen-100)*t/end,dtype=int)]\n",
    "\n",
    "Xr = standardize(odeint(Lorenz96P, t0, tr, args=(F,)))[::reduction,0,None]\n",
    "\"\"\"\n",
    "\n",
    "# Rossler\n",
    "\"\"\"\n",
    "a = lambda t : 0.2 # + 0.2 * t / end\n",
    "b = lambda t : 0.2 # + 1 * t / end\n",
    "c = lambda t : 5.7 # + 5 * t / end\n",
    "Xr = standardize(odeint(RosslerP, t0, t, args=(a,b,c)))[::reduction, 0, None]\n",
    "\"\"\"\n",
    "\n",
    "\"\"\"\n",
    "# Logistic Map\n",
    "r = lambda t: 3 + np.sin(np.pi * t / tlen)\n",
    "# r = lambda t: 4 #  + 0.5 * t / tlen\n",
    "Xr = np.zeros((tlen,1))\n",
    "Xr[0,0] = t0\n",
    "for i in range(1,tlen):\n",
    "    Xr[i,0] = r(i) * Xr[i-1,0] * (1 - Xr[i-1,0])\n",
    "\n",
    "Xr = Xr[settlingTime:]\n",
    "\"\"\"\n",
    "\n",
    "# Constant Map\n",
    "# Xr = 2 + 0.01* rand.uniform(size=(tlen-settlingTime,1))\n",
    "\n",
    "# Random\n",
    "# Xr = rand.uniform(size=(tlen-settlingTime,1))\n",
    "\n",
    "# Sinusoidal Motion\n",
    "# Xr = np.sin(t).reshape(t.shape[0],1)\n",
    "\n"
   ]
  },
  {
   "cell_type": "code",
   "execution_count": 61,
   "metadata": {},
   "outputs": [
    {
     "name": "stdout",
     "output_type": "stream",
     "text": [
      "(256, 1) (256,)\n"
     ]
    }
   ],
   "source": [
    "print(Xr.shape, t.shape)"
   ]
  },
  {
   "cell_type": "code",
   "execution_count": 62,
   "metadata": {},
   "outputs": [
    {
     "data": {
      "text/plain": [
       "'\\nfile = \"GPDD.csv\"\\ndata = pd.read_csv(file,encoding=\"utf-8\",na_filter=False)\\nstates = data.to_numpy()\\n\\nXr = np.log(states[:,2,None]+1)\\ntr = states[:,3] - np.min(states[:,3])\\ntlen = states.shape[0]\\n'"
      ]
     },
     "execution_count": 62,
     "metadata": {},
     "output_type": "execute_result"
    }
   ],
   "source": [
    "# FROM DATA\n",
    "\n",
    "\"\"\"\n",
    "file = \"GPDD.csv\"\n",
    "data = pd.read_csv(file,encoding=\"utf-8\",na_filter=False)\n",
    "states = data.to_numpy()\n",
    "\n",
    "Xr = np.log(states[:,2,None]+1)\n",
    "tr = states[:,3] - np.min(states[:,3])\n",
    "tlen = states.shape[0]\n",
    "\"\"\"\n",
    "# END FROM DATA"
   ]
  },
  {
   "cell_type": "code",
   "execution_count": 63,
   "metadata": {},
   "outputs": [
    {
     "data": {
      "text/plain": [
       "'\\ngtsr = np.zeros((Xr.shape[0], ndrivers))\\nfor ind in range(len(digiDrivers)):\\n    tmp = np.fromfunction(lambda i : digiDrivers[ind](i), (Xr.shape[0],) , dtype = float)# time series of gmax\\n    gtsr[:,ind] = tmp\\n'"
      ]
     },
     "execution_count": 63,
     "metadata": {},
     "output_type": "execute_result"
    }
   ],
   "source": [
    "\n",
    "\"\"\" UPDATE DRIVERS HERE \"\"\"\n",
    "\n",
    "digiDrivers = []\n",
    "\n",
    "\"\"\"\n",
    "gtsr = np.zeros((Xr.shape[0], ndrivers))\n",
    "for ind in range(len(digiDrivers)):\n",
    "    tmp = np.fromfunction(lambda i : digiDrivers[ind](i), (Xr.shape[0],) , dtype = float)# time series of gmax\n",
    "    gtsr[:,ind] = tmp\n",
    "\"\"\"\n",
    "# gtsr = h2(t)\n",
    "# gtsr = r(t) # driverArray\n",
    "# gtsr = Gmax(t)"
   ]
  },
  {
   "cell_type": "code",
   "execution_count": 64,
   "metadata": {},
   "outputs": [
    {
     "ename": "NameError",
     "evalue": "name 'gtsr' is not defined",
     "output_type": "error",
     "traceback": [
      "\u001b[1;31m---------------------------------------------------------------------------\u001b[0m",
      "\u001b[1;31mNameError\u001b[0m                                 Traceback (most recent call last)",
      "\u001b[1;32m<ipython-input-64-6e2521e0c35f>\u001b[0m in \u001b[0;36m<module>\u001b[1;34m\u001b[0m\n\u001b[0;32m     34\u001b[0m     \u001b[1;32mif\u001b[0m \u001b[0mndrivers\u001b[0m \u001b[1;33m==\u001b[0m \u001b[1;36m1\u001b[0m\u001b[1;33m:\u001b[0m\u001b[1;33m\u001b[0m\u001b[1;33m\u001b[0m\u001b[0m\n\u001b[0;32m     35\u001b[0m         \u001b[0maxD\u001b[0m\u001b[1;33m.\u001b[0m\u001b[0mset_title\u001b[0m\u001b[1;33m(\u001b[0m\u001b[1;34m\"Driver\"\u001b[0m\u001b[1;33m)\u001b[0m\u001b[1;33m\u001b[0m\u001b[1;33m\u001b[0m\u001b[0m\n\u001b[1;32m---> 36\u001b[1;33m         \u001b[0maxD\u001b[0m\u001b[1;33m.\u001b[0m\u001b[0mplot\u001b[0m\u001b[1;33m(\u001b[0m\u001b[0mgtsr\u001b[0m\u001b[1;33m,\u001b[0m \u001b[0mc\u001b[0m\u001b[1;33m=\u001b[0m\u001b[1;34m\"tab:orange\"\u001b[0m\u001b[1;33m)\u001b[0m\u001b[1;33m\u001b[0m\u001b[1;33m\u001b[0m\u001b[0m\n\u001b[0m\u001b[0;32m     37\u001b[0m     \u001b[1;32melse\u001b[0m\u001b[1;33m:\u001b[0m\u001b[1;33m\u001b[0m\u001b[1;33m\u001b[0m\u001b[0m\n\u001b[0;32m     38\u001b[0m         \u001b[0maxD\u001b[0m\u001b[1;33m[\u001b[0m\u001b[1;36m0\u001b[0m\u001b[1;33m]\u001b[0m\u001b[1;33m.\u001b[0m\u001b[0mset_title\u001b[0m\u001b[1;33m(\u001b[0m\u001b[1;34m\"Driver(s)\"\u001b[0m\u001b[1;33m)\u001b[0m\u001b[1;33m\u001b[0m\u001b[1;33m\u001b[0m\u001b[0m\n",
      "\u001b[1;31mNameError\u001b[0m: name 'gtsr' is not defined"
     ]
    },
    {
     "data": {
      "image/png": "[encoded data removed]",
      "text/plain": [
       "<Figure size 360x216 with 1 Axes>"
      ]
     },
     "metadata": {
      "needs_background": "light"
     },
     "output_type": "display_data"
    },
    {
     "data": {
      "image/png": "[encoded data removed]",
      "text/plain": [
       "<Figure size 360x216 with 1 Axes>"
      ]
     },
     "metadata": {
      "needs_background": "light"
     },
     "output_type": "display_data"
    }
   ],
   "source": [
    "fig2 = plt.figure(2,figsize=(5,3))\n",
    "\n",
    "if dim == 1:\n",
    "    ax2 = plt.subplot()\n",
    "    ax2.plot(Xr[:,0],\"b\") # states\n",
    "elif dim == 2:\n",
    "    ax2 = plt.subplot()\n",
    "    ax2.plot(Xr[:,0],Xr[:,1])\n",
    "else:\n",
    "    ax2 = fig2.gca(projection=\"3d\")\n",
    "    ax2.plot(Xr[:,0],Xr[:,1],Xr[:,2])\n",
    "    \n",
    "\"\"\" \n",
    "ax2 = fig2.gca(projection=\"3d\")\n",
    "ax2.plot(t[settlingTime:],Xr[:,0],Xr[:,1])\n",
    "ax2.set_xlabel(\"Time\")\n",
    "ax2.set_ylabel(\"Species 1 (standardized)\")\n",
    "ax2.set_zlabel(\"Species 2 (standardized)\")\n",
    "\"\"\"\n",
    "# ax2.set_title(\"Rosenzweig MacArthur\")\n",
    "plt.savefig(\"Raw Data\")\n",
    "\n",
    "if dim != 1:\n",
    "    figTS, axTS = plt.subplots(dim,figsize=(5,dim*3))\n",
    "    axTS[0].set_title(\"Cross section Time Series\")\n",
    "    for i in range(dim):\n",
    "        axTS[i].set_title(\"Index: {ind}\".format(ind=i))\n",
    "        axTS[i].plot(Xr[:,i])\n",
    "\n",
    "plt.savefig(\"Individual Dimensions\")\n",
    "        \n",
    "if ndrivers != 0:\n",
    "    figD, axD = plt.subplots(ndrivers, figsize=(5,ndrivers*3))\n",
    "    if ndrivers == 1:\n",
    "        axD.set_title(\"Driver\")\n",
    "        axD.plot(gtsr, c=\"tab:orange\")\n",
    "    else:\n",
    "        axD[0].set_title(\"Driver(s)\")\n",
    "        for d in range(ndrivers):\n",
    "            axD[d].plot(gtsr[:,d], c=\"tab:orange\")\n",
    "            \n",
    "    plt.savefig(\"Drivers\")\n",
    "        \n",
    "plt.show()"
   ]
  },
  {
   "cell_type": "code",
   "execution_count": null,
   "metadata": {},
   "outputs": [],
   "source": [
    "def peakToPeakInterval(X, t, a,b,c):\n",
    "    imax0 = Xr[a:b].argmax() + a\n",
    "    imax1 = Xr[b:c].argmax() + b\n",
    "    return t[imax1] - t[imax0]\n"
   ]
  },
  {
   "cell_type": "code",
   "execution_count": null,
   "metadata": {
    "scrolled": true
   },
   "outputs": [],
   "source": [
    "def threelagsfig(timeseries):\n",
    "    eeee, yyyy = delayEmbed(timeseries, 0, 3, 1)\n",
    "    figPP = plt.figure()\n",
    "    axPP = figPP.gca(projection=\"3d\")\n",
    "    axPP.scatter(eeee[:,0],eeee[:,1],eeee[:,2])\n",
    "    plt.show()\n",
    "    \n",
    "def tandtplus1(timeseries):\n",
    "    figTT, axTT = plt.subplots(1)\n",
    "    axTT.scatter(timeseries[:-1], timeseries[1:])\n",
    "    axTT.set_xlabel(\"x(t)\")\n",
    "    axTT.set_ylabel(\"x(t+1)\")\n",
    "    plt.show()\n",
    "    \n",
    "threelagsfig(Xr)\n",
    "tandtplus1(Xr)"
   ]
  },
  {
   "cell_type": "code",
   "execution_count": null,
   "metadata": {},
   "outputs": [],
   "source": []
  },
  {
   "cell_type": "code",
   "execution_count": 65,
   "metadata": {},
   "outputs": [
    {
     "data": {
      "image/png": "[encoded data removed]",
      "text/plain": [
       "<Figure size 432x288 with 1 Axes>"
      ]
     },
     "metadata": {
      "needs_background": "light"
     },
     "output_type": "display_data"
    }
   ],
   "source": [
    "figPP = plt.figure()\n",
    "axPP = figPP.gca(projection=\"3d\")\n",
    "axPP.scatter(Xr[:-1],Xr[1:],tr[:-1])\n",
    "plt.show()"
   ]
  },
  {
   "cell_type": "code",
   "execution_count": 66,
   "metadata": {
    "scrolled": false
   },
   "outputs": [
    {
     "data": {
      "image/png": "[encoded data removed]",
      "text/plain": [
       "<Figure size 432x360 with 1 Axes>"
      ]
     },
     "metadata": {
      "needs_background": "light"
     },
     "output_type": "display_data"
    }
   ],
   "source": [
    "figL = plt.figure(1,figsize=(6,5))\n",
    "\n",
    "rspace = np.linspace(0,1,num=256)\n",
    "xspace = np.linspace(0,1,num=256)\n",
    "rspace, xspace = np.meshgrid(rspace, xspace)\n",
    "\n",
    "# logspace = gtsr * xspace*(1-xspace)\n",
    "\n",
    "# print(gtsr.shape, Xr.shape)\n",
    "axL = figL.gca(projection=\"3d\")\n",
    "axL.scatter(Xr[:-1], t[:-1]/tlen, Xr[1:], c=\"red\")\n",
    "# axL.scatter(Xr[:-1], 3+t[:-1]/tlen, Xr[1:], c=\"red\")\n",
    "# axL.plot_surface(xspace, rspace, logspace, cmap=\"bone\")\n",
    "axL.set_xlabel(\"X_t\")\n",
    "axL.set_ylabel(\"t\")\n",
    "axL.set_zlabel(\"X_t+1\")\n",
    "\n",
    "plt.show()"
   ]
  },
  {
   "cell_type": "code",
   "execution_count": 67,
   "metadata": {
    "scrolled": true
   },
   "outputs": [
    {
     "data": {
      "image/png": "[encoded data removed]",
      "text/plain": [
       "<Figure size 432x216 with 1 Axes>"
      ]
     },
     "metadata": {
      "needs_background": "light"
     },
     "output_type": "display_data"
    }
   ],
   "source": [
    "FNNplot(Xr, 8, 4)"
   ]
  },
  {
   "cell_type": "code",
   "execution_count": 115,
   "metadata": {},
   "outputs": [
    {
     "data": {
      "text/plain": [
       "'\\npredictionStep = 1\\nX, t = delayEmbed(Xr,t,[6],1)\\n\\ntestTrainSplit = int(Xr.shape[0] * trainToTest)\\nXtrain = X[:testTrainSplit]\\nYtrain = Y[:testTrainSplit]\\nXtest = X[testTrainSplit:]\\nYtest = Y[testTrainSplit:]\\n'"
      ]
     },
     "execution_count": 115,
     "metadata": {},
     "output_type": "execute_result"
    }
   ],
   "source": [
    "\n",
    "Xs, Ys, txs, tys = delayEmbed(Xr, 10, 2, 1, t=t)\n",
    "Xn, Yn, txn, tyn = delayEmbed(Xr, 10, 0, 1, t=t)\n",
    "\n",
    "\"\"\"\n",
    "predictionStep = 1\n",
    "X, t = delayEmbed(Xr,t,[6],1)\n",
    "\n",
    "testTrainSplit = int(Xr.shape[0] * trainToTest)\n",
    "Xtrain = X[:testTrainSplit]\n",
    "Ytrain = Y[:testTrainSplit]\n",
    "Xtest = X[testTrainSplit:]\n",
    "Ytest = Y[testTrainSplit:]\n",
    "\"\"\""
   ]
  },
  {
   "cell_type": "code",
   "execution_count": 116,
   "metadata": {
    "scrolled": true
   },
   "outputs": [
    {
     "name": "stdout",
     "output_type": "stream",
     "text": [
      "(244, 3) (244, 1) (244,)\n",
      "[[7.88961276]]\n",
      "[7.88961276]\n"
     ]
    }
   ],
   "source": [
    "print(X.shape, Y.shape, tx.shape)\n",
    "\n",
    "print(GMap(X[:-1], Y[:-1], tx[:-1], X[-1], tx[-1], 10, 0))\n",
    "print(Y[-1])"
   ]
  },
  {
   "cell_type": "code",
   "execution_count": 99,
   "metadata": {},
   "outputs": [
    {
     "name": "stdout",
     "output_type": "stream",
     "text": [
      "[[7.88961276]]\n",
      "[7.88961276]\n"
     ]
    }
   ],
   "source": [
    "np.set_printoptions(suppress=True)\n",
    "print(GMap(X[:-1], Y[:-1], tx[:-1], X[-1], tx[-1], 1, 0.01))\n",
    "print(Y[-1])"
   ]
  },
  {
   "cell_type": "code",
   "execution_count": 120,
   "metadata": {},
   "outputs": [
    {
     "data": {
      "image/png": "[encoded data removed]",
      "text/plain": [
       "<Figure size 432x288 with 1 Axes>"
      ]
     },
     "metadata": {
      "needs_background": "light"
     },
     "output_type": "display_data"
    }
   ],
   "source": [
    "predictedTSG = leaveOneOut(Xn, Yn, txn, 10, 0.1)\n",
    "predictedTSS = leaveOneOut(Xs, Ys, txs, 10, 0)\n",
    "\n",
    "predictedTSSN = np.zeros((X.shape[0], 1))    \n",
    "for i in range(0, X.shape[0]):\n",
    "    Xjts = Xs[i].copy()\n",
    "    Yjts = Ys[i].copy()\n",
    "\n",
    "    Xjtr = np.delete(Xs, i, axis=0)\n",
    "    Yjtr = np.delete(Ys, i, axis=0)\n",
    "    \n",
    "    prediction = SMap(Xjtr, Yjtr, Xjts, 10)\n",
    "\n",
    "    predictedTSSN[i] = prediction\n",
    "\n",
    "figLOU, axLOU = plt.subplots()\n",
    "axLOU.plot(Y, c=\"blue\")\n",
    "axLOU.plot(predictedTSG, c=\"green\", linestyle=\"-\")\n",
    "axLOU.plot(predictedTSS, c=\"silver\", linestyle=\"dotted\")\n",
    "# axLOU.plot(predictedTSSN, c=\"silver\", linestyle=\"dotted\")\n",
    "plt.show()"
   ]
  },
  {
   "cell_type": "code",
   "execution_count": 119,
   "metadata": {},
   "outputs": [
    {
     "name": "stdout",
     "output_type": "stream",
     "text": [
      "0.6176939806472537\n",
      "9.760205123277021e-09\n"
     ]
    }
   ],
   "source": [
    "print(np.sum(abs(predictedTSG - Yn)))\n",
    "print(np.sum(abs(predictedTSS - Ys)))\n",
    "\n",
    "# timeit.timeit(\"leaveOneOut(X, Y, tx, ty, 10, 0.1)\", globals=globals())"
   ]
  },
  {
   "cell_type": "code",
   "execution_count": 102,
   "metadata": {},
   "outputs": [
    {
     "name": "stdout",
     "output_type": "stream",
     "text": [
      "[0.5        0.33333333 8.45830916]\n"
     ]
    }
   ],
   "source": [
    "A = np.array([2,3,0],dtype=float)\n",
    "print(np.power(A, -1, where=(A!=0)))\n",
    "\n",
    "C = np.array([1,2,1])\n",
    "D = np.array([[1,2,1],[1,2,2],[-1,2,3]])"
   ]
  },
  {
   "cell_type": "code",
   "execution_count": null,
   "metadata": {},
   "outputs": [],
   "source": []
  },
  {
   "cell_type": "code",
   "execution_count": 103,
   "metadata": {},
   "outputs": [],
   "source": [
    "def likelihoodRatioTest(X, Y, tx, ty, thetaBestS, thetaBest, deltaBest, errThetaDelta):\n",
    "    nTrials = int(X.shape[0] / 4)\n",
    "    \n",
    "    dofS = dofestimation(X, Y, tx, thetaBestS, 0)\n",
    "    dofG = dofestimation(X, Y, tx, thetaBest, deltaBest)\n",
    "    dof = abs(dofS - dofG)\n",
    "    \n",
    "    teststat = X.shape[0] * np.log(np.min(errThetaDelta[:,0]) / np.min(errThetaDelta))\n",
    "    \n",
    "    return (teststat, dof)\n",
    "    \n",
    "    # errS, varS = GMapMinError(X, t, predHorizon, thetaVals, np.array([0]), nTrials)\n",
    "    # errG, varG = GMapMinError(X, t, predHorizon, thetaVals, deltaVals, nTrials)\n",
    "    \n",
    "    # return (errS / varS) - (errG / varG)\n",
    "\n",
    "# WRONG, NEED TO USE APPROPRIATE HAT MATRIX, WHICH IS MADE OF \n",
    "def dofestimation(X, Y, tx, theta, delta):\n",
    "    dofest = 0\n",
    "    for i in range(X.shape[0]):\n",
    "        pred, hatvector = GMap(X, Y, tx, X[i], tx[i], theta, delta, return_hat=True)\n",
    "        dofest += hatvector[0,i]\n",
    "    return dofest\n",
    "        \n",
    "def chisig(test_stat, dof):\n",
    "    if dof == 0:\n",
    "        return 1\n",
    "    return 1 - stats.chi2.cdf(lambdaLR,dof)"
   ]
  },
  {
   "cell_type": "code",
   "execution_count": null,
   "metadata": {},
   "outputs": [],
   "source": []
  },
  {
   "cell_type": "code",
   "execution_count": null,
   "metadata": {},
   "outputs": [],
   "source": []
  },
  {
   "cell_type": "code",
   "execution_count": 104,
   "metadata": {},
   "outputs": [
    {
     "name": "stdout",
     "output_type": "stream",
     "text": [
      "(244, 3) (256,)\n"
     ]
    }
   ],
   "source": [
    "print(X.shape, t.shape)"
   ]
  },
  {
   "cell_type": "code",
   "execution_count": 105,
   "metadata": {},
   "outputs": [
    {
     "name": "stdout",
     "output_type": "stream",
     "text": [
      "GMap Optimized Params: theta=1.0, delta=0.7434662640566428\n",
      "SMap Optimized Params: theta=1.0\n"
     ]
    }
   ],
   "source": [
    "nHPvals = 15\n",
    "predHorizon = 6\n",
    "nTrials = int(Xr.shape[0] / 3)\n",
    "\n",
    "thetaVals = np.linspace(1, 40, num=nHPvals)\n",
    "deltaVals = np.linspace(0, 1, num=nHPvals) ** 4\n",
    "\n",
    "thetaBest, deltaBest, errThetaDeltaGMap = GMapOptimize(X, Y, tx, thetaVals, deltaVals)\n",
    "thetaBestS, _ , errThetaSMap = GMapOptimize(X, Y, tx, thetaVals, np.array([[0]]))\n",
    "\n",
    "print(f\"GMap Optimized Params: theta={thetaBest}, delta={deltaBest}\")\n",
    "print(f\"SMap Optimized Params: theta={thetaBestS}\")"
   ]
  },
  {
   "cell_type": "code",
   "execution_count": 106,
   "metadata": {},
   "outputs": [
    {
     "name": "stdout",
     "output_type": "stream",
     "text": [
      "GMap dof: 14.500225709931383\n",
      "SMap dof: 12.019591669393943\n"
     ]
    }
   ],
   "source": [
    "# print(np.trace(hatG)) \n",
    "print(f\"GMap dof: {dofestimation(X,Y,tx, thetaBest, deltaBest)}\")\n",
    "print(f\"SMap dof: {dofestimation(X,Y,tx, thetaBestS, 0)}\")\n",
    "# hat matrix trace = 1.7718827495393625"
   ]
  },
  {
   "cell_type": "code",
   "execution_count": 107,
   "metadata": {
    "scrolled": true
   },
   "outputs": [
    {
     "data": {
      "image/png": "[encoded data removed]",
      "text/plain": [
       "<Figure size 576x216 with 1 Axes>"
      ]
     },
     "metadata": {
      "needs_background": "light"
     },
     "output_type": "display_data"
    },
    {
     "data": {
      "image/png": "[encoded data removed]",
      "text/plain": [
       "<Figure size 576x576 with 2 Axes>"
      ]
     },
     "metadata": {
      "needs_background": "light"
     },
     "output_type": "display_data"
    },
    {
     "name": "stdout",
     "output_type": "stream",
     "text": [
      "Min SMap Error: 1.1469575538985733e-19, Min GMap Error: 1.5426753339581368e-23\n",
      "Improvement of GMap: 7434.860262889884\n"
     ]
    }
   ],
   "source": [
    "# Theta Optimization\n",
    "fig1, ax1 = plt.subplots(1, figsize = (8,3))\n",
    "ax1.plot(thetaVals, errThetaSMap, c=\"silver\")\n",
    "ax1.set_title(\"SMap Error Results\")\n",
    "ax1.set_xlabel(\"Theta\")\n",
    "ax1.set_ylabel(\"Error\")\n",
    "\n",
    "fig2, ax2 = plt.subplots(1, figsize = (8,8))\n",
    "plt.colorbar(ax2.imshow(np.log(errThetaDeltaGMap)))\n",
    "ax2.set_xticks(range(nHPvals))\n",
    "ax2.set_xticklabels(list(np.round(deltaVals,2)))\n",
    "ax2.set_xlabel(\"Delta\")\n",
    "ax2.set_yticks(np.arange(nHPvals))\n",
    "ax2.set_yticklabels(list(np.round(thetaVals,2)))\n",
    "ax2.set_ylabel(\"Theta\")\n",
    "ax2.set_title(\"GMap Error Results\")\n",
    "plt.show()\n",
    "\n",
    "print(f\"Min SMap Error: {np.min(errThetaSMap)}, Min GMap Error: {np.min(errThetaDeltaGMap)}\")\n",
    "print(f\"Improvement of GMap: {np.min(errThetaSMap)/np.min(errThetaDeltaGMap)}\")"
   ]
  },
  {
   "cell_type": "code",
   "execution_count": 108,
   "metadata": {},
   "outputs": [
    {
     "name": "stdout",
     "output_type": "stream",
     "text": [
      "[[ 0.87227172  0.98256302  1.        ]\n",
      " [ 0.6829552   0.87227172  0.98256302]\n",
      " [ 0.4361569   0.6829552   0.87227172]\n",
      " [ 0.15903162  0.4361569   0.6829552 ]\n",
      " [-0.11830539  0.15903162  0.4361569 ]\n",
      " [-0.36571818 -0.11830539  0.15903162]\n",
      " [-0.555992   -0.36571818 -0.11830539]\n",
      " [-0.66748994 -0.555992   -0.36571818]\n",
      " [-0.6862651  -0.66748994 -0.555992  ]\n",
      " [-0.60742213 -0.6862651  -0.66748994]\n",
      " [-0.43559503 -0.60742213 -0.6862651 ]\n",
      " [-0.18449485 -0.43559503 -0.60742213]\n",
      " [ 0.1244288  -0.18449485 -0.43559503]\n",
      " [ 0.46408165  0.1244288  -0.18449485]\n",
      " [ 0.80436967  0.46408165  0.1244288 ]\n",
      " [ 1.11513682  0.80436967  0.46408165]\n",
      " [ 1.36910886  1.11513682  0.80436967]\n",
      " [ 1.54455584  1.36910886  1.11513682]\n",
      " [ 1.62741335  1.54455584  1.36910886]\n",
      " [ 1.61265547  1.62741335  1.54455584]\n",
      " [ 1.50478542  1.61265547  1.62741335]\n",
      " [ 1.31739592  1.50478542  1.61265547]\n",
      " [ 1.07184232  1.31739592  1.50478542]\n",
      " [ 0.79515789  1.07184232  1.31739592]\n",
      " [ 0.51741487  0.79515789  1.07184232]\n",
      " [ 0.26878882  0.51741487  0.79515789]\n",
      " [ 0.07661294  0.26878882  0.51741487]\n",
      " [-0.03729018  0.07661294  0.26878882]\n",
      " [-0.05873886 -0.03729018  0.07661294]\n",
      " [ 0.01742325 -0.05873886 -0.03729018]\n",
      " [ 0.18682384  0.01742325 -0.05873886]\n",
      " [ 0.43598874  0.18682384  0.01742325]\n",
      " [ 0.74365727  0.43598874  0.18682384]\n",
      " [ 1.08285767  0.74365727  0.43598874]\n",
      " [ 1.42354008  1.08285767  0.74365727]\n",
      " [ 1.73550996  1.42354008  1.08285767]\n",
      " [ 1.99137566  1.73550996  1.42354008]\n",
      " [ 2.16922238  1.99137566  1.73550996]\n",
      " [ 2.25475144  2.16922238  1.99137566]\n",
      " [ 2.24267613  2.25475144  2.16922238]\n",
      " [ 2.1372378   2.24267613  2.25475144]\n",
      " [ 1.95179179  2.1372378   2.24267613]\n",
      " [ 1.70750373  1.95179179  2.1372378 ]\n",
      " [ 1.43128335  1.70750373  1.95179179]\n",
      " [ 1.15315757  1.43128335  1.70750373]\n",
      " [ 0.90333934  1.15315757  1.43128335]\n",
      " [ 0.70927823  0.90333934  1.15315757]\n",
      " [ 0.59298087  0.70927823  0.90333934]\n",
      " [ 0.56886264  0.59298087  0.70927823]\n",
      " [ 0.64234052  0.56886264  0.59298087]\n",
      " [ 0.80930421  0.64234052  0.56886264]\n",
      " [ 1.05651744  0.80930421  0.64234052]\n",
      " [ 1.36291005  1.05651744  0.80930421]\n",
      " [ 1.70163483  1.36291005  1.05651744]\n",
      " [ 2.04268834  1.70163483  1.36291005]\n",
      " [ 2.35583983  2.04268834  1.70163483]\n",
      " [ 2.6135823   2.35583983  2.04268834]\n",
      " [ 2.79381773  2.6135823   2.35583983]\n",
      " [ 2.88201427  2.79381773  2.6135823 ]\n",
      " [ 2.87262481  2.88201427  2.79381773]\n",
      " [ 2.7696285   2.87262481  2.88201427]\n",
      " [ 2.5861423   2.7696285   2.87262481]\n",
      " [ 2.34314053  2.5861423   2.7696285 ]\n",
      " [ 2.06740734  2.34314053  2.5861423 ]\n",
      " [ 1.7889221   2.06740734  2.34314053]\n",
      " [ 1.53793285  1.7889221   2.06740734]\n",
      " [ 1.34200348  1.53793285  1.7889221 ]\n",
      " [ 1.22332298  1.34200348  1.53793285]\n",
      " [ 1.19653939  1.22332298  1.34200348]\n",
      " [ 1.26732986  1.19653939  1.22332298]\n",
      " [ 1.43184646  1.26732986  1.19653939]\n",
      " [ 1.67709177  1.43184646  1.26732986]\n",
      " [ 1.98218776  1.67709177  1.43184646]\n",
      " [ 2.32041378  1.98218776  1.67709177]\n",
      " [ 2.66181509  2.32041378  1.98218776]\n",
      " [ 2.97612699  2.66181509  2.32041378]\n",
      " [ 3.23572919  2.97612699  2.66181509]\n",
      " [ 3.41834213  3.23572919  2.97612699]\n",
      " [ 3.50920187  3.41834213  3.23572919]\n",
      " [ 3.50250132  3.50920187  3.41834213]\n",
      " [ 3.40195714  3.50250132  3.50920187]\n",
      " [ 3.22044693  3.40195714  3.50250132]\n",
      " [ 2.97875209  3.22044693  3.40195714]\n",
      " [ 2.7035292   2.97875209  3.22044693]\n",
      " [ 2.42470783  2.7035292   2.97875209]\n",
      " [ 2.17256881  2.42470783  2.7035292 ]\n",
      " [ 1.97478828  2.17256881  2.42470783]\n",
      " [ 1.85373594  1.97478828  2.17256881]\n",
      " [ 1.82429137  1.85373594  1.97478828]\n",
      " [ 1.89239147  1.82429137  1.85373594]\n",
      " [ 2.05445094  1.89239147  1.82429137]\n",
      " [ 2.29771225  2.05445094  1.89239147]\n",
      " [ 2.60149101  2.29771225  2.05445094]\n",
      " [ 2.93919518  2.60149101  2.29771225]\n",
      " [ 3.28092096  2.93919518  2.60149101]\n",
      " [ 3.59637196  3.28092096  2.93919518]\n",
      " [ 3.85781672  3.59637196  3.28092096]\n",
      " [ 4.04279578  3.85781672  3.59637196]\n",
      " [ 4.13631425  4.04279578  3.85781672]\n",
      " [ 4.13230547  4.13631425  4.04279578]\n",
      " [ 4.03422336  4.13230547  4.13631425]\n",
      " [ 3.85470515  4.03422336  4.13230547]\n",
      " [ 3.61433779  3.85470515  4.03422336]\n",
      " [ 3.33964829  3.61433779  3.85470515]\n",
      " [ 3.06051413  3.33964829  3.61433779]\n",
      " [ 2.80724669  3.06051413  3.33964829]\n",
      " [ 2.60763224  2.80724669  3.06051413]\n",
      " [ 2.48421953  2.60763224  2.80724669]\n",
      " [ 2.45211855  2.48421953  2.60763224]\n",
      " [ 2.51752552  2.45211855  2.48421953]\n",
      " [ 2.67711803  2.51752552  2.45211855]\n",
      " [ 2.91837938  2.67711803  2.51752552]\n",
      " [ 3.22082041  2.91837938  2.67711803]\n",
      " [ 3.55797968  3.22082041  2.91837938]\n",
      " [ 3.90000657  3.55797968  3.22082041]\n",
      " [ 4.2165753   3.90000657  3.55797968]\n",
      " [ 4.47984529  4.2165753   3.90000657]\n",
      " [ 4.66717892  4.47984529  4.2165753 ]\n",
      " [ 4.76335143  4.66717892  4.47984529]\n",
      " [ 4.7620371   4.76335143  4.66717892]\n",
      " [ 4.66642679  4.7620371   4.76335143]\n",
      " [ 4.48891646  4.66642679  4.7620371 ]\n",
      " [ 4.24989704  4.48891646  4.66642679]\n",
      " [ 3.97576396  4.24989704  4.48891646]\n",
      " [ 3.69634038  3.97576396  4.24989704]\n",
      " [ 3.44196593  3.69634038  3.97576396]\n",
      " [ 3.24053495  3.44196593  3.69634038]\n",
      " [ 3.11477353  3.24053495  3.44196593]\n",
      " [ 3.08002091  3.11477353  3.24053495]\n",
      " [ 3.14273218  3.08002091  3.11477353]\n",
      " [ 3.29984809  3.14273218  3.08002091]\n",
      " [ 3.53909368  3.29984809  3.14273218]\n",
      " [ 3.84017659  3.53909368  3.29984809]\n",
      " [ 4.17676793  3.84017659  3.53909368]\n",
      " [ 4.51907255  4.17676793  3.84017659]\n",
      " [ 4.83673755  4.51907255  4.17676793]\n",
      " [ 5.10181531  4.83673755  4.51907255]\n",
      " [ 5.29149178  5.10181531  4.83673755]\n",
      " [ 5.39031345  5.29149178  5.10181531]\n",
      " [ 5.39169602  5.39031345  5.29149178]\n",
      " [ 5.29856708  5.39169602  5.39031345]\n",
      " [ 5.12308034  5.29856708  5.39169602]\n",
      " [ 4.88542922  5.12308034  5.29856708]\n",
      " [ 4.61187554  4.88542922  5.12308034]\n",
      " [ 4.33218593  4.61187554  4.88542922]\n",
      " [ 4.07672598  4.33218593  4.61187554]\n",
      " [ 3.87349601  4.07672598  4.33218593]\n",
      " [ 3.74539769  3.87349601  4.07672598]\n",
      " [ 3.70799842  3.74539769  3.87349601]\n",
      " [ 3.76801164  3.70799842  3.74539769]\n",
      " [ 3.92264147  3.76801164  3.70799842]\n",
      " [ 4.15985566  3.92264147  3.76801164]\n",
      " [ 4.45956014  4.15985566  3.92264147]\n",
      " [ 4.79556059  4.45956014  4.15985566]\n",
      " [ 5.13811954  4.79556059  4.45956014]\n",
      " [ 5.45685924  5.13811954  4.79556059]\n",
      " [ 5.72372721  5.45685924  5.13811954]\n",
      " [ 5.91573458  5.72372721  5.45685924]\n",
      " [ 6.01720035  5.91573458  5.72372721]\n",
      " [ 6.02128208  6.01720035  5.91573458]\n",
      " [ 5.93064387  6.02128208  6.01720035]\n",
      " [ 5.75719629  5.93064387  6.02128208]\n",
      " [ 5.52093371  5.75719629  5.93064387]\n",
      " [ 5.2479824   5.52093371  5.75719629]\n",
      " [ 4.96805017  5.2479824   5.52093371]\n",
      " [ 4.71152631  4.96805017  5.2479824 ]\n",
      " [ 4.50651499  4.71152631  4.96805017]\n",
      " [ 4.37609178  4.50651499  4.71152631]\n",
      " [ 4.33605103  4.37609178  4.50651499]\n",
      " [ 4.39336404  4.33605103  4.37609178]\n",
      " [ 4.54549852  4.39336404  4.33605103]\n",
      " [ 4.78066582  4.54549852  4.39336404]\n",
      " [ 5.07897167  4.78066582  4.54549852]\n",
      " [ 5.41435831  5.07897167  4.78066582]\n",
      " [ 5.75714816  5.41435831  5.07897167]\n",
      " [ 6.07694095  5.75714816  5.41435831]\n",
      " [ 6.34558138  6.07694095  5.75714816]\n",
      " [ 6.53990758  6.34558138  6.07694095]\n",
      " [ 6.64401217  6.53990758  6.34558138]\n",
      " [ 6.6507951   6.64401217  6.53990758]\n",
      " [ 6.56265681  6.6507951   6.64401217]\n",
      " [ 6.39126382  6.56265681  6.6507951 ]\n",
      " [ 6.15640991  6.39126382  6.56265681]\n",
      " [ 5.88408387  6.15640991  6.39126382]\n",
      " [ 5.60393246  5.88408387  6.15640991]\n",
      " [ 5.34636635  5.60393246  5.88408387]\n",
      " [ 5.13959147  5.34636635  5.60393246]\n",
      " [ 5.00685555  5.13959147  5.34636635]\n",
      " [ 4.9641787   5.00685555  5.13959147]\n",
      " [ 5.01878954  4.9641787   5.00685555]\n",
      " [ 5.16841959  5.01878954  4.9641787 ]\n",
      " [ 5.40152466  5.16841959  5.01878954]\n",
      " [ 5.6984118   5.40152466  5.16841959]\n",
      " [ 6.03316173  5.6984118   5.40152466]\n",
      " [ 6.37615904  6.03316173  5.6984118 ]\n",
      " [ 6.69698322  6.37615904  6.03316173]\n",
      " [ 6.96737826  6.69698322  6.37615904]\n",
      " [ 7.16401102  6.96737826  6.69698322]\n",
      " [ 7.27074895  7.16401102  6.96737826]\n",
      " [ 7.28023495  7.27074895  7.16401102]\n",
      " [ 7.19460556  7.28023495  7.27074895]\n",
      " [ 7.02528242  7.19460556  7.28023495]\n",
      " [ 6.79185723  7.02528242  7.19460556]\n",
      " [ 6.52017931  6.79185723  7.02528242]\n",
      " [ 6.23983216  6.52017931  6.79185723]\n",
      " [ 5.98124556  6.23983216  6.52017931]\n",
      " [ 5.77272505  5.98124556  6.23983216]\n",
      " [ 5.63768876  5.77272505  5.98124556]\n",
      " [ 5.59238137  5.63768876  5.77272505]\n",
      " [ 5.64428831  5.59238137  5.63768876]\n",
      " [ 5.79140502  5.64428831  5.59238137]\n",
      " [ 6.02243267  5.79140502  5.64428831]\n",
      " [ 6.31788111  6.02243267  5.79140502]\n",
      " [ 6.65197151  6.31788111  6.02243267]\n",
      " [ 6.99515284  6.65197151  6.31788111]\n",
      " [ 7.31698661  6.99515284  6.65197151]\n",
      " [ 7.58911827  7.31698661  6.99515284]\n",
      " [ 7.78804515  7.58911827  7.31698661]\n",
      " [ 7.89741075  7.78804515  7.58911827]\n",
      " [ 7.90960146  7.89741075  7.78804515]\n",
      " [ 7.82648979  7.90960146  7.89741075]\n",
      " [ 7.65925159  7.82648979  7.90960146]\n",
      " [ 7.42727505  7.65925159  7.82648979]\n",
      " [ 7.15626807  7.42727505  7.65925159]\n",
      " [ 6.87574863  7.15626807  7.42727505]\n",
      " [ 6.61616336  6.87574863  7.15626807]\n",
      " [ 6.40591527  6.61616336  6.87574863]\n",
      " [ 6.26859115  6.40591527  6.61616336]\n",
      " [ 6.220659    6.26859115  6.40591527]\n",
      " [ 6.26986048  6.220659    6.26859115]\n",
      " [ 6.41445514  6.26986048  6.220659  ]\n",
      " [ 6.64339035  6.41445514  6.26986048]\n",
      " [ 6.93738022  6.64339035  6.41445514]\n",
      " [ 7.27078831  6.93738022  6.64339035]\n",
      " [ 7.61413017  7.27078831  6.93738022]\n",
      " [ 7.93695167  7.61413017  7.27078831]\n",
      " [ 8.21080184  7.93695167  7.61413017]\n",
      " [ 8.41201023  8.21080184  7.93695167]\n",
      " [ 8.52399762  8.41201023  8.21080184]\n",
      " [ 8.53889449  8.52399762  8.41201023]\n",
      " [ 8.45830916  8.53889449  8.52399762]\n",
      " [ 8.29317085  8.45830916  8.53889449]\n",
      " [ 8.06266278  8.29317085  8.45830916]\n",
      " [ 7.79234949  8.06266278  8.29317085]]\n"
     ]
    }
   ],
   "source": [
    "# print(f\"DOF = {np.trace(hatG)}\")\n",
    "# print(thetaBest)\n",
    "print(X)"
   ]
  },
  {
   "cell_type": "code",
   "execution_count": 109,
   "metadata": {},
   "outputs": [],
   "source": [
    "predictedTSG = leaveOneOut(X, Y, tx, thetaBest, 0.1)\n",
    "predictedTSS = leaveOneOut(X, Y, tx, thetaBestS, 0)"
   ]
  },
  {
   "cell_type": "code",
   "execution_count": 110,
   "metadata": {},
   "outputs": [
    {
     "data": {
      "image/png": "[encoded data removed]",
      "text/plain": [
       "<Figure size 432x288 with 1 Axes>"
      ]
     },
     "metadata": {
      "needs_background": "light"
     },
     "output_type": "display_data"
    }
   ],
   "source": [
    "figLOU, axLOU = plt.subplots()\n",
    "axLOU.plot(Y, c=\"blue\")\n",
    "axLOU.plot(predictedTSG, c=\"green\", linestyle=\"-\")\n",
    "axLOU.plot(predictedTSS, c=\"silver\", linestyle=\"dotted\")\n",
    "plt.show()"
   ]
  },
  {
   "cell_type": "code",
   "execution_count": 111,
   "metadata": {},
   "outputs": [
    {
     "name": "stdout",
     "output_type": "stream",
     "text": [
      "[ 1.          3.78571429  6.57142857  9.35714286 12.14285714 14.92857143\n",
      " 17.71428571 20.5        23.28571429 26.07142857 28.85714286 31.64285714\n",
      " 34.42857143 37.21428571 40.        ]\n"
     ]
    }
   ],
   "source": [
    "print(thetaVals)"
   ]
  },
  {
   "cell_type": "code",
   "execution_count": 112,
   "metadata": {},
   "outputs": [],
   "source": [
    "lambdaLR, dof = likelihoodRatioTest(X, Y, tx, ty, thetaBestS, thetaBest, deltaBest, errThetaDeltaGMap)\n"
   ]
  },
  {
   "cell_type": "code",
   "execution_count": 113,
   "metadata": {},
   "outputs": [
    {
     "name": "stdout",
     "output_type": "stream",
     "text": [
      "LRT Score w/ steps = 2175.000155669017, DOF difference = 2.4806340405374403\n",
      "Probability of SMap Superiority: 0.0\n"
     ]
    }
   ],
   "source": [
    "print(f\"LRT Score w/ steps = {lambdaLR}, DOF difference = {dof}\")\n",
    "print(f\"Probability of SMap Superiority: {chisig(lambdaLR, dof)}\")"
   ]
  },
  {
   "cell_type": "code",
   "execution_count": 114,
   "metadata": {},
   "outputs": [
    {
     "name": "stdout",
     "output_type": "stream",
     "text": [
      "GMap Optimized Params: theta=1.0, delta=0.7434662640566428\n",
      "SMap Optimized Params: theta=1.0\n",
      "GMap dof: 14.500225709931383\n",
      "SMap dof: 12.019591669393943\n",
      "Min SMap Error: 1.1469575538985733e-19, Min GMap Error: 1.5426753339581368e-23\n",
      "Improvement of GMap: 7434.860262889884\n",
      "LRT Score w/ steps = 2175.000155669017, DOF difference = 2.4806340405374403\n",
      "Probability of SMap Superiority: 0.0\n"
     ]
    }
   ],
   "source": [
    "# SUMMARY\n",
    "print(f\"GMap Optimized Params: theta={thetaBest}, delta={deltaBest}\")\n",
    "print(f\"SMap Optimized Params: theta={thetaBestS}\")\n",
    "\n",
    "print(f\"GMap dof: {dofestimation(X,Y,tx, thetaBest, deltaBest)}\")\n",
    "print(f\"SMap dof: {dofestimation(X,Y,tx, thetaBestS, 0)}\")\n",
    "\n",
    "print(f\"Min SMap Error: {np.min(errThetaSMap)}, Min GMap Error: {np.min(errThetaDeltaGMap)}\")\n",
    "print(f\"Improvement of GMap: {np.min(errThetaSMap)/np.min(errThetaDeltaGMap)}\")\n",
    "\n",
    "print(f\"LRT Score w/ steps = {lambdaLR}, DOF difference = {dof}\")\n",
    "print(f\"Probability of SMap Superiority: {chisig(lambdaLR, dof)}\")"
   ]
  },
  {
   "cell_type": "code",
   "execution_count": null,
   "metadata": {},
   "outputs": [],
   "source": []
  }
 ],
 "metadata": {
  "kernelspec": {
   "display_name": "Python 3",
   "language": "python",
   "name": "python3"
  },
  "language_info": {
   "codemirror_mode": {
    "name": "ipython",
    "version": 3
   },
   "file_extension": ".py",
   "mimetype": "text/x-python",
   "name": "python",
   "nbconvert_exporter": "python",
   "pygments_lexer": "ipython3",
   "version": "3.7.3"
  }
 },
 "nbformat": 4,
 "nbformat_minor": 2
}
